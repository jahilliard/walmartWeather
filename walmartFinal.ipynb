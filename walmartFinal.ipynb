{
 "cells": [
  {
   "cell_type": "code",
   "execution_count": 2,
   "metadata": {
    "collapsed": true
   },
   "outputs": [],
   "source": [
    "import time\n",
    "import math \n",
    "import copy\n",
    "import random\n",
    "import statistics"
   ]
  },
  {
   "cell_type": "markdown",
   "metadata": {},
   "source": [
    "##Run KNN Simulation"
   ]
  },
  {
   "cell_type": "code",
   "execution_count": 6,
   "metadata": {
    "collapsed": false
   },
   "outputs": [
    {
     "name": "stdout",
     "output_type": "stream",
     "text": [
      "Done key.csv\n",
      "Done train.csv\n",
      "Done weather.csv\n"
     ]
    }
   ],
   "source": [
    "##This has its own cell block because it takes a long time to run\n",
    "loadFiles()"
   ]
  },
  {
   "cell_type": "code",
   "execution_count": 30,
   "metadata": {
    "collapsed": false
   },
   "outputs": [
    {
     "name": "stdout",
     "output_type": "stream",
     "text": [
      "Done\n",
      "2012-12-25 Failed\n",
      "2012-12-25 Failed\n",
      "Done\n",
      "Done\n",
      "Done\n",
      "17.18932725886405\n",
      "Done\n",
      "Done\n",
      "[0.0, 0.1808907779673747, 0.21057067025519124, 0.3255474012702359, 0.0, 0.05556047910420744, 0.6500252203913097, 0.6492689627862235, 0.0, 0.19272088287339828, 0.4741155803680206, 0.0684474714921343, 0.3714108417475282, 0.530164951998753, 0.0, 0.0, 0.1895699938498879, 0.04043322854674207, 0.0, 0.48268459128925534, 0.3799494624934701, 0.11775091246941596, 0.495611929691607, 0.49319221808117236, 0.257318454427777, 0.0, 0.2577591068036898, 0.0, 0.0, 0.2389808043072347, 0.12001645058530504, 0.10588507504153565, 0.1306934778617096, 0.3209188928837835, 0.12110200181723256, 0.0, 0.0, 0.16602266173664326, 0.41656832194351134, 0.0, 0.0, 0.1055008305469868, 0.22733983527676035, 0.0, 0.12576940973692421, 0.47818017195581874, 0.2598822777442244, 0.29199582031631033, 0.09896330648987217, 0.0, 0.45174291263916994, 0.17899416663611042, 0.3027085919346371, 0.487999966748988, 0.0, 0.1920069394006067, 0.3982372436504827, 0.4411761352904721, 0.0, 0.26365795318648044, 0.45760805586491893, 0.36480239343403037, 0.0, 0.7344338557664133, 0.30265470427528457, 0.0, 0.7073653630001671, 0.0, 0.0, 0.4599405659377954, 0.0, 0.0, 0.0, 0.4882421044462172, 0.4132775731543035, 0.0, 0.0, 0.28035067044033835, 0.19385151119634678, 0.0, 0.3604165394708648, 0.09565367016186054, 0.1208445353848434, 0.0, 0.0, 0.0, 0.09188852361025317, 0.0, 0.0, 0.3235534854764103, 0.0, 0.21445227341653364, 0.0, 0.3497503472158964, 0.4556290697110462, 0.0, 0.0, 0.21499364690724337, 0.46692463654080085, 0.0, 0.7567629255594414, 0.4440462947802018, 0.0, 0.0, 0.48568321944383913, 0.5010314382160523, 0.17092593941662948, 0.0, 0.4043029422204762, 0.7245455783716895, 0.0, 0.0, 0.0, 0.11234304256127307, 0.36966622335170674, 0.0, 0.0, 0.3820171224150085, 0.24313889044291714, 0.6303860921738597, 0.40167671532298427, 0.19280367466434442, 0.464929098006151, 0.3058453364811996, 0.13731514703898035, 0.5670061843139386, 0.0, 0.1190739368912972]\n",
      "0.2098239821306387\n"
     ]
    }
   ],
   "source": [
    "global kNum \n",
    "kNum = 3\n",
    "\n",
    "notedDays = buildNotedDaysHash(keyDict, weatherDict)\n",
    "trainedPreStoreDict = buildPredictorTargetArr(keyDict, trainDict, notedDays, weatherDict)\n",
    "dataList = changeDateCreateKNNList(trainedPreStoreDict)\n",
    "trainingData, testData = createTestAndTrain(dataList)\n",
    "tempStdev = calculateSTDEV(trainingData)\n",
    "simDict, temp = sim(trainingData, testData, tempStdev)\n",
    "predictedDict = runCalcAcross(kNum, simDict)\n",
    "runNumRSMLEAcross(predictedDict, testData)"
   ]
  },
  {
   "cell_type": "code",
   "execution_count": 3,
   "metadata": {
    "collapsed": false
   },
   "outputs": [
    {
     "name": "stdout",
     "output_type": "stream",
     "text": [
      "Done key.csv\n",
      "Done train.csv\n",
      "Done weather.csv\n"
     ]
    }
   ],
   "source": [
    "def loadData(fname, dataStructure):\n",
    "    count = 0\n",
    "    with open(fname) as f:\n",
    "        content = f.readlines()\n",
    "    for line in content:\n",
    "        if count is not 0:\n",
    "            line = line.strip()\n",
    "            line = line.split(',')\n",
    "            if dataStructure.get(line[0]) is None:\n",
    "                dataStructure[line[0]] = []\n",
    "                dataStructure[line[0]].append(line[1:])\n",
    "            else:\n",
    "                dataStructure[line[0]].append(line[1:])\n",
    "        count+=1\n",
    "    print(\"Done \" + fname)\n",
    "        \n",
    "def loadFiles():\n",
    "    global keyDict, trainDict, weatherDict\n",
    "    keyDict = {}\n",
    "    weatherDict = {}\n",
    "    trainDict = {}\n",
    "    dataStruct = [keyDict, trainDict, weatherDict]\n",
    "    count=0\n",
    "    for x in ['key.csv', 'train.csv', 'weather.csv']:\n",
    "        loadData(x, dataStruct[count])\n",
    "        count+=1\n",
    "\n",
    "loadFiles()"
   ]
  },
  {
   "cell_type": "markdown",
   "metadata": {
    "collapsed": true
   },
   "source": [
    "##Define Weather Event\n",
    "weather event as any day in which more than an inch of rain or two inches of snow was observed"
   ]
  },
  {
   "cell_type": "code",
   "execution_count": 4,
   "metadata": {
    "collapsed": false
   },
   "outputs": [
    {
     "name": "stdout",
     "output_type": "stream",
     "text": [
      "Done\n"
     ]
    }
   ],
   "source": [
    "def buildNotedDaysHash(keyDict, weatherDict):\n",
    "    toreturn = {}\n",
    "    for storeKey in range(1,46):\n",
    "        stationKey = keyDict[str(storeKey)][0][0]\n",
    "        weatherData = weatherDict[str(stationKey)]\n",
    "        first = True\n",
    "        for dayData in weatherData:\n",
    "            isNoted = 0\n",
    "            try:\n",
    "                if float(dayData[12]) > 2:\n",
    "                    isNoted = dayData\n",
    "            except ValueError:\n",
    "                pass\n",
    "            try:\n",
    "                if float(dayData[13]) > 1:\n",
    "                    isNoted = dayData\n",
    "            except ValueError:\n",
    "                pass\n",
    "            if first:\n",
    "                toreturn[storeKey] = []\n",
    "                toreturn[storeKey].append(isNoted)\n",
    "                first = False\n",
    "            else:\n",
    "                toreturn[storeKey].append(isNoted)\n",
    "    print(\"Done\")\n",
    "    return toreturn\n",
    "            \n",
    "global notedDays \n",
    "notedDays = buildNotedDaysHash(keyDict, weatherDict)"
   ]
  },
  {
   "cell_type": "code",
   "execution_count": 9,
   "metadata": {
    "collapsed": false
   },
   "outputs": [
    {
     "name": "stdout",
     "output_type": "stream",
     "text": [
      "2012-12-25 Failed\n",
      "2012-12-25 Failed\n",
      "Done\n"
     ]
    }
   ],
   "source": [
    "def buildPredictorTargetArr(keyDict, trainDict, notedDays, weatherDict):\n",
    "    indexJump = 3\n",
    "    arrSize = 115\n",
    "    toreturn = {}\n",
    "    for storeKey in range(1,46):\n",
    "        dayArr = notedDays[storeKey]\n",
    "        for x in dayArr:\n",
    "                if x != 0:\n",
    "                    if toreturn.get(storeKey) is None:\n",
    "                        tempArr = [0]*arrSize\n",
    "                        tempdate = x[0]\n",
    "                        tempArr[0] = tempdate\n",
    "                        tempArr[1] = int(keyDict[str(storeKey)][0][0])\n",
    "                        tempArr[3] = storeKey\n",
    "                        try:\n",
    "                            tempArr[2] = int(x[3])\n",
    "                        except ValueError:\n",
    "                            tempArr[2] = 'N/A'\n",
    "                        try:\n",
    "                            tempIter = trainDict[tempdate]\n",
    "                        except KeyError:\n",
    "                            print(str(x) + \" Failed\")\n",
    "                        for i in tempIter:\n",
    "                            if int(i[0]) == storeKey:\n",
    "                                tempIndex = int(i[1]) + indexJump\n",
    "                                tempArr[tempIndex] = int(i[2])\n",
    "                        toreturn[storeKey] = []\n",
    "                        toreturn[storeKey].append(tempArr)\n",
    "                    else:\n",
    "                        tempdate = x[0]\n",
    "                        try:\n",
    "                            tempIter = trainDict[tempdate]\n",
    "                        except KeyError:\n",
    "                            print(str(x[0]) + \" Failed\")\n",
    "                        tempArr = [0]*arrSize\n",
    "                        tempArr[0] = tempdate\n",
    "                        tempArr[1] = int(keyDict[str(storeKey)][0][0])\n",
    "                        tempArr[3] = storeKey\n",
    "                        try:\n",
    "                            tempArr[2] = int(x[3])\n",
    "                        except ValueError:\n",
    "                            tempArr[2] = 'N/A'\n",
    "                        for i in tempIter:\n",
    "                            if int(i[0]) == storeKey:\n",
    "                                tempIndex = int(i[1]) + indexJump\n",
    "                                tempArr[tempIndex] = int(i[2])\n",
    "                        toreturn[storeKey].append(tempArr)\n",
    "    print(\"Done\")\n",
    "    return toreturn\n",
    "\n",
    "global trainedPreStoreDict\n",
    "trainedPreStoreDict = buildPredictorTargetArr(keyDict, trainDict, notedDays, weatherDict)"
   ]
  },
  {
   "cell_type": "markdown",
   "metadata": {
    "collapsed": true
   },
   "source": [
    "##Notes\n",
    "\n",
    "No Train data available for days that the store is closed (ie Chirstmas) "
   ]
  },
  {
   "cell_type": "code",
   "execution_count": 10,
   "metadata": {
    "collapsed": false
   },
   "outputs": [
    {
     "name": "stdout",
     "output_type": "stream",
     "text": [
      "Done\n"
     ]
    }
   ],
   "source": [
    "def changeDateCreateKNNList(trainedPreStoreDict):\n",
    "    dataList = []\n",
    "    for key,value in trainedPreStoreDict.items():\n",
    "        for x in range(len(value)):\n",
    "            try:\n",
    "                tempDate = trainedPreStoreDict[key][x][0]\n",
    "                struct_time = time.strptime(tempDate, \"%Y-%m-%d\")\n",
    "                trainedPreStoreDict[key][x][0] = struct_time.tm_yday\n",
    "                dataList.append(trainedPreStoreDict[key][x])\n",
    "            except TypeError:\n",
    "                print(\"AlreadyFormatted\")\n",
    "                break\n",
    "    print(\"Done\")\n",
    "    return dataList\n",
    "        \n",
    "global dataList\n",
    "dataList = changeDateCreateKNNList(trainedPreStoreDict)"
   ]
  },
  {
   "cell_type": "code",
   "execution_count": 13,
   "metadata": {
    "collapsed": false
   },
   "outputs": [
    {
     "name": "stdout",
     "output_type": "stream",
     "text": [
      "Done\n"
     ]
    }
   ],
   "source": [
    "def createTestAndTrain(data):\n",
    "    trainingData = copy.deepcopy(data)\n",
    "    testData = []\n",
    "    for i in range(len(trainingData)//10):\n",
    "        testData.append(trainingData.pop(random.randint(0, len(trainingData)-1)))\n",
    "    print(\"Done\")\n",
    "    return trainingData, testData\n",
    "\n",
    "global trainingData, testData\n",
    "trainingData, testData = createTestAndTrain(dataList)"
   ]
  },
  {
   "cell_type": "code",
   "execution_count": 14,
   "metadata": {
    "collapsed": false
   },
   "outputs": [
    {
     "name": "stdout",
     "output_type": "stream",
     "text": [
      "17.4151230621909\n"
     ]
    }
   ],
   "source": [
    "def calculateSTDEV(trainingData):\n",
    "    tempCalc = []\n",
    "    for x in trainingData:\n",
    "        if x[2] != 'N/A':\n",
    "            tempCalc.append(x[2])\n",
    "    stDev= statistics.stdev(tempCalc)\n",
    "    print(stDev)\n",
    "    return stDev\n",
    "\n",
    "global tempStdev\n",
    "tempStdev = calculateSTDEV(trainingData)"
   ]
  },
  {
   "cell_type": "code",
   "execution_count": 17,
   "metadata": {
    "collapsed": false,
    "scrolled": true
   },
   "outputs": [
    {
     "name": "stdout",
     "output_type": "stream",
     "text": [
      "Done\n"
     ]
    }
   ],
   "source": [
    "def sim(trainingData, testData, tempStdev):\n",
    "    simDictFORPLOT = {}\n",
    "    numberOfPredictors = 4\n",
    "    tempIndexTest = 0 \n",
    "    testKScoredArr = {}\n",
    "    for compare in testData:\n",
    "        simArr = []\n",
    "        simArrFORPLOT= []\n",
    "        for x in trainingData:\n",
    "            tempScore = 0\n",
    "            dateDist = abs(compare[0] - x[0])\n",
    "            tempScore += 10 - (dateDist/365)*10\n",
    "            if x[2] != 'N/A' and compare[2] != 'N/A':\n",
    "                tempuratureDist = abs(compare[2] - x[2])\n",
    "                tempScore += 10 - (tempuratureDist/tempStdev)*10\n",
    "            if x[1] == compare[1]:\n",
    "                tempScore += 3\n",
    "            if x[3] == compare[3]:\n",
    "                tempScore += 1\n",
    "            simArr.append((float(tempScore), x[numberOfPredictors:]))\n",
    "            simArrFORPLOT.append((float(tempScore), x))\n",
    "        simArr.sort()\n",
    "        simArrFORPLOT.sort()\n",
    "        simArr.reverse()\n",
    "        simArrFORPLOT.sort()\n",
    "        testKScoredArr[tempIndexTest] = simArr\n",
    "        simDictFORPLOT[tempIndexTest] = simArrFORPLOT\n",
    "        tempIndexTest+=1\n",
    "    print(\"Done\")\n",
    "    return testKScoredArr, simDictFORPLOT\n",
    "\n",
    "global simDict, simDictFORPLOT\n",
    "simDict, simDictFORPLOT = sim(trainingData, testData, tempStdev)"
   ]
  },
  {
   "cell_type": "code",
   "execution_count": 18,
   "metadata": {
    "collapsed": false
   },
   "outputs": [
    {
     "name": "stdout",
     "output_type": "stream",
     "text": [
      "Done\n"
     ]
    }
   ],
   "source": [
    "def runCalcAcross(k, simDict):\n",
    "    predictedDict = {}\n",
    "    for key,val in simDict.items():\n",
    "        tempPredArr = calcUnits(k, val)\n",
    "        predictedDict[key] = tempPredArr\n",
    "    print(\"Done\")\n",
    "    return predictedDict\n",
    "\n",
    "def calcUnits(k, simArr):\n",
    "    workDict = simArr[:k]\n",
    "    kmax = max(workDict)[0]\n",
    "    weightTot = 0\n",
    "    predictedArr = [0]*111\n",
    "    wieghtSumArr = [0]*111\n",
    "    for x in workDict:\n",
    "        itemsArr = x[1] \n",
    "        weight = (x[0]/kmax)\n",
    "        weightTot += weight\n",
    "        for i in range(111):\n",
    "            wieghtSumArr[i] = wieghtSumArr[i] + (itemsArr[i]*weight)\n",
    "    for i in range(111):\n",
    "            predictedArr[i] = (wieghtSumArr[i]/weightTot)\n",
    "    return predictedArr\n",
    "    \n",
    "global predictedDict\n",
    "predictedDict = runCalcAcross(kNum, simDict)"
   ]
  },
  {
   "cell_type": "code",
   "execution_count": 20,
   "metadata": {
    "collapsed": false,
    "scrolled": true
   },
   "outputs": [
    {
     "name": "stdout",
     "output_type": "stream",
     "text": [
      "[0.025949394160080907, 0.3509339137311181, 0.572572663548479, 0.5622269621990462, 0.2782637016858113, 0.34489561849211675, 0.1880435440283364, 0.15216421688620402, 0.16929615667510398, 0.0, 0.4599421981473251, 0.49112664716167603, 0.34516985697422314, 0.0, 0.5694601003970989, 0.611299427742467, 0.0, 0.0, 0.43687850373195775, 0.19340281863742875, 0.0, 0.0, 0.2770884219948116, 0.5339021816174491, 0.26365795318648044, 0.0, 0.2376225153870351, 0.0880555175927004, 0.3065822081594456, 0.5694710873147706, 0.0, 0.23329920236030535, 0.0, 0.23829373722055838, 0.4385877017911693, 0.0, 0.7485761695773369, 0.028085524032750286, 0.4781463311110113, 0.2799490592661326, 0.0, 0.0, 0.14349384050648364, 0.0, 0.38002487215346176, 0.5418757911857411, 0.21805141232421765, 0.45186006315422383, 0.48477523549571283, 0.48081894758036553, 0.11978434121799078, 0.0, 0.14120924864838422, 0.0, 0.20160381104300107, 0.0, 0.0, 0.0, 0.5417150987502349, 0.3982784941552543, 0.0, 0.5435656064983491, 0.0, 0.38203262822186684, 0.4132775731543035, 0.36957253517644745, 0.4868935817179718, 0.0, 0.0, 0.0, 0.0, 0.13069956402885366, 0.0, 0.0, 0.0, 0.0, 0.22340556331681657, 0.6316304146418101, 0.45740611783430174, 0.0, 0.0, 0.0, 0.0, 0.36535073240032523, 0.43511831598260714, 0.5421556234120173, 0.36096661044675954, 0.35202716520562105, 0.23307048518100773, 0.3964896890528756, 0.3461181826670538, 0.36327922263852613, 0.0845397070812793, 0.5223134806111117, 0.1092687166631235, 0.0, 0.0, 0.3634635791708745, 0.0, 0.6212382887298171, 0.22296108833473624, 0.0, 0.0, 0.4390511290620792, 0.1065960410036255, 0.6026483655965076, 0.0, 0.6360577245982653, 0.5404638575742648, 0.0, 0.0, 0.0, 0.0, 0.20011149066569314, 0.347895201999411, 0.0, 0.40342404292699247, 0.0, 0.6189197702738685, 0.0, 0.0, 0.3272345292054486, 0.4439781005851384, 0.8130568624542523, 0.0, 0.228810370167181, 0.45256524667579323, 0.6894753808257054]\n",
      "0.23737161778756394\n"
     ]
    }
   ],
   "source": [
    "def runNumRSMLEAcross(predictedDict, compareTotalArr):\n",
    "    numberOfPredictors = 4\n",
    "    global RSMLEList\n",
    "    RSMLEList = []\n",
    "    for key,val in predictedDict.items():\n",
    "        RSMLEList.append(EvaluationNumRSMLE(val, compareTotalArr[key][numberOfPredictors:]))\n",
    "    print(RSMLEList)\n",
    "    print(statistics.mean(RSMLEList))\n",
    "\n",
    "def EvaluationNumRSMLE(predictedArr, compareSingleArr):\n",
    "    tempLog = 0\n",
    "    for x in range(111):\n",
    "        tempLog = tempLog + (math.log(predictedArr[x] + 1) - math.log(compareSingleArr[x] + 1))**2\n",
    "    toRoot = (1/111)*tempLog\n",
    "    RSMLE = math.sqrt(toRoot)\n",
    "    return RSMLE\n",
    "    \n",
    "runNumRSMLEAcross(predictedDict, testData)"
   ]
  },
  {
   "cell_type": "markdown",
   "metadata": {},
   "source": [
    "#Deeper Analysis / Graph Section"
   ]
  },
  {
   "cell_type": "code",
   "execution_count": 54,
   "metadata": {
    "collapsed": false
   },
   "outputs": [
    {
     "name": "stdout",
     "output_type": "stream",
     "text": [
      "Done\n"
     ]
    }
   ],
   "source": [
    "def formatDataPlot(simDict, predictedDict, testData, k):\n",
    "    plotFormat = {}\n",
    "    for key in range(128):\n",
    "        plotFormat[key+1] = [testData[key]]+[predictedDict[key]]+[simDict[key][:k]]\n",
    "    print(\"Done\")\n",
    "    return plotFormat\n",
    "\n",
    "# RSMLEList other useful Data Structure\n",
    "hashFormatted = formatDataPlot(simDictFORPLOT, predictedDict, testData, kNum)"
   ]
  },
  {
   "cell_type": "markdown",
   "metadata": {},
   "source": [
    "#BELOW THIS IS WORK DONE BUT NEVER USED"
   ]
  },
  {
   "cell_type": "code",
   "execution_count": 33,
   "metadata": {
    "collapsed": false
   },
   "outputs": [
    {
     "name": "stdout",
     "output_type": "stream",
     "text": [
      "Done\n"
     ]
    }
   ],
   "source": [
    "def keyDictForKNN(keyDict):\n",
    "    modKeyDict = {}\n",
    "    dictList = []\n",
    "    for key,values in keyDict.items():\n",
    "        tempVal = int(values[0][0])\n",
    "        tempKey = int(key)\n",
    "        if tempKey not in dictList:\n",
    "            dictList.append(tempKey)\n",
    "            modKeyDict[tempKey] = tempVal\n",
    "    print(\"Done\")\n",
    "    return modKeyDict\n",
    "\n",
    "\n",
    "global modKeyDict        \n",
    "modKeyDict = keyDictForKNN(keyDict)"
   ]
  },
  {
   "cell_type": "code",
   "execution_count": 8,
   "metadata": {
    "collapsed": false
   },
   "outputs": [
    {
     "name": "stdout",
     "output_type": "stream",
     "text": [
      "Done\n"
     ]
    }
   ],
   "source": [
    "def KNNCatagoryHashGen(dataList, modKeyDict):\n",
    "    wTowerCatagoryHash = {}\n",
    "    dayCatagoryHash = {}\n",
    "    for x in dataList:\n",
    "        stationKey = modKeyDict[x[1]]\n",
    "        dayNum = x[0]\n",
    "        dayCatagoryHash = insertdayCatagoryHash(dayCatagoryHash, dayNum, x)\n",
    "        wTowerCatagoryHash = insertwTowerCatagoryHash(wTowerCatagoryHash, stationKey, x)\n",
    "    print(\"Done\")\n",
    "    return dayCatagoryHash, wTowerCatagoryHash\n",
    "        \n",
    "def insertdayCatagoryHash(dayCatagoryHash, dayNum ,x):\n",
    "    if dayCatagoryHash.get(dayNum) is None:\n",
    "        dayCatagoryHash[dayNum] = []\n",
    "        dayCatagoryHash[dayNum].append(x)\n",
    "    else:\n",
    "        dayCatagoryHash[dayNum].append(x)\n",
    "    return dayCatagoryHash\n",
    "    \n",
    "def insertwTowerCatagoryHash(wTowerCatagoryHash, stationKey, x):\n",
    "    if wTowerCatagoryHash.get(stationKey) is None:\n",
    "        wTowerCatagoryHash[stationKey] = []\n",
    "        wTowerCatagoryHash[stationKey].append(x)\n",
    "    else:\n",
    "        wTowerCatagoryHash[stationKey].append(x)\n",
    "    return wTowerCatagoryHash\n",
    "        \n",
    "        \n",
    "global dayCatagoryHash, wTowerCatagoryHash\n",
    "[dayCatagoryHash, wTowerCatagoryHash] = KNNCatagoryHashGen(dataList, modKeyDict)\n",
    "global featureSet\n",
    "featureSet = [dayCatagoryHash, wTowerCatagoryHash]"
   ]
  },
  {
   "cell_type": "code",
   "execution_count": 11,
   "metadata": {
    "collapsed": false
   },
   "outputs": [
    {
     "name": "stdout",
     "output_type": "stream",
     "text": [
      "Done\n"
     ]
    }
   ],
   "source": [
    "%matplotlib inline\n",
    "\n",
    "import matplotlib\n",
    "\n",
    "import numpy as np\n",
    "\n",
    "import matplotlib.pyplot as plt\n",
    "\n",
    "print(\"Done\")"
   ]
  },
  {
   "cell_type": "code",
   "execution_count": 47,
   "metadata": {
    "collapsed": false
   },
   "outputs": [
    {
     "ename": "ValueError",
     "evalue": "x and y must have same first dimension",
     "output_type": "error",
     "traceback": [
      "\u001b[0;31m---------------------------------------------------------------------------\u001b[0m",
      "\u001b[0;31mValueError\u001b[0m                                Traceback (most recent call last)",
      "\u001b[0;32m<ipython-input-47-bd357d770f89>\u001b[0m in \u001b[0;36m<module>\u001b[0;34m()\u001b[0m\n\u001b[1;32m     23\u001b[0m \u001b[0;31m# add a 'best fit' line\u001b[0m\u001b[0;34m\u001b[0m\u001b[0;34m\u001b[0m\u001b[0m\n\u001b[1;32m     24\u001b[0m \u001b[0my\u001b[0m \u001b[0;34m=\u001b[0m \u001b[0mnum_bins\u001b[0m\u001b[0;34m\u001b[0m\u001b[0m\n\u001b[0;32m---> 25\u001b[0;31m \u001b[0mplt\u001b[0m\u001b[0;34m.\u001b[0m\u001b[0mplot\u001b[0m\u001b[0;34m(\u001b[0m\u001b[0mbins\u001b[0m\u001b[0;34m,\u001b[0m \u001b[0mn\u001b[0m\u001b[0;34m,\u001b[0m \u001b[0;34m'r--'\u001b[0m\u001b[0;34m)\u001b[0m\u001b[0;34m\u001b[0m\u001b[0m\n\u001b[0m\u001b[1;32m     26\u001b[0m \u001b[0;34m\u001b[0m\u001b[0m\n\u001b[1;32m     27\u001b[0m \u001b[0;31m# Tweak spacing to prevent clipping of ylabel\u001b[0m\u001b[0;34m\u001b[0m\u001b[0;34m\u001b[0m\u001b[0m\n",
      "\u001b[0;32m/Users/justinhilliard/anaconda/envs/python27/lib/python2.7/site-packages/matplotlib/pyplot.pyc\u001b[0m in \u001b[0;36mplot\u001b[0;34m(*args, **kwargs)\u001b[0m\n\u001b[1;32m   3097\u001b[0m         \u001b[0max\u001b[0m\u001b[0;34m.\u001b[0m\u001b[0mhold\u001b[0m\u001b[0;34m(\u001b[0m\u001b[0mhold\u001b[0m\u001b[0;34m)\u001b[0m\u001b[0;34m\u001b[0m\u001b[0m\n\u001b[1;32m   3098\u001b[0m     \u001b[0;32mtry\u001b[0m\u001b[0;34m:\u001b[0m\u001b[0;34m\u001b[0m\u001b[0m\n\u001b[0;32m-> 3099\u001b[0;31m         \u001b[0mret\u001b[0m \u001b[0;34m=\u001b[0m \u001b[0max\u001b[0m\u001b[0;34m.\u001b[0m\u001b[0mplot\u001b[0m\u001b[0;34m(\u001b[0m\u001b[0;34m*\u001b[0m\u001b[0margs\u001b[0m\u001b[0;34m,\u001b[0m \u001b[0;34m**\u001b[0m\u001b[0mkwargs\u001b[0m\u001b[0;34m)\u001b[0m\u001b[0;34m\u001b[0m\u001b[0m\n\u001b[0m\u001b[1;32m   3100\u001b[0m         \u001b[0mdraw_if_interactive\u001b[0m\u001b[0;34m(\u001b[0m\u001b[0;34m)\u001b[0m\u001b[0;34m\u001b[0m\u001b[0m\n\u001b[1;32m   3101\u001b[0m     \u001b[0;32mfinally\u001b[0m\u001b[0;34m:\u001b[0m\u001b[0;34m\u001b[0m\u001b[0m\n",
      "\u001b[0;32m/Users/justinhilliard/anaconda/envs/python27/lib/python2.7/site-packages/matplotlib/axes/_axes.pyc\u001b[0m in \u001b[0;36mplot\u001b[0;34m(self, *args, **kwargs)\u001b[0m\n\u001b[1;32m   1371\u001b[0m         \u001b[0mlines\u001b[0m \u001b[0;34m=\u001b[0m \u001b[0;34m[\u001b[0m\u001b[0;34m]\u001b[0m\u001b[0;34m\u001b[0m\u001b[0m\n\u001b[1;32m   1372\u001b[0m \u001b[0;34m\u001b[0m\u001b[0m\n\u001b[0;32m-> 1373\u001b[0;31m         \u001b[0;32mfor\u001b[0m \u001b[0mline\u001b[0m \u001b[0;32min\u001b[0m \u001b[0mself\u001b[0m\u001b[0;34m.\u001b[0m\u001b[0m_get_lines\u001b[0m\u001b[0;34m(\u001b[0m\u001b[0;34m*\u001b[0m\u001b[0margs\u001b[0m\u001b[0;34m,\u001b[0m \u001b[0;34m**\u001b[0m\u001b[0mkwargs\u001b[0m\u001b[0;34m)\u001b[0m\u001b[0;34m:\u001b[0m\u001b[0;34m\u001b[0m\u001b[0m\n\u001b[0m\u001b[1;32m   1374\u001b[0m             \u001b[0mself\u001b[0m\u001b[0;34m.\u001b[0m\u001b[0madd_line\u001b[0m\u001b[0;34m(\u001b[0m\u001b[0mline\u001b[0m\u001b[0;34m)\u001b[0m\u001b[0;34m\u001b[0m\u001b[0m\n\u001b[1;32m   1375\u001b[0m             \u001b[0mlines\u001b[0m\u001b[0;34m.\u001b[0m\u001b[0mappend\u001b[0m\u001b[0;34m(\u001b[0m\u001b[0mline\u001b[0m\u001b[0;34m)\u001b[0m\u001b[0;34m\u001b[0m\u001b[0m\n",
      "\u001b[0;32m/Users/justinhilliard/anaconda/envs/python27/lib/python2.7/site-packages/matplotlib/axes/_base.pyc\u001b[0m in \u001b[0;36m_grab_next_args\u001b[0;34m(self, *args, **kwargs)\u001b[0m\n\u001b[1;32m    302\u001b[0m                 \u001b[0;32mreturn\u001b[0m\u001b[0;34m\u001b[0m\u001b[0m\n\u001b[1;32m    303\u001b[0m             \u001b[0;32mif\u001b[0m \u001b[0mlen\u001b[0m\u001b[0;34m(\u001b[0m\u001b[0mremaining\u001b[0m\u001b[0;34m)\u001b[0m \u001b[0;34m<=\u001b[0m \u001b[0;36m3\u001b[0m\u001b[0;34m:\u001b[0m\u001b[0;34m\u001b[0m\u001b[0m\n\u001b[0;32m--> 304\u001b[0;31m                 \u001b[0;32mfor\u001b[0m \u001b[0mseg\u001b[0m \u001b[0;32min\u001b[0m \u001b[0mself\u001b[0m\u001b[0;34m.\u001b[0m\u001b[0m_plot_args\u001b[0m\u001b[0;34m(\u001b[0m\u001b[0mremaining\u001b[0m\u001b[0;34m,\u001b[0m \u001b[0mkwargs\u001b[0m\u001b[0;34m)\u001b[0m\u001b[0;34m:\u001b[0m\u001b[0;34m\u001b[0m\u001b[0m\n\u001b[0m\u001b[1;32m    305\u001b[0m                     \u001b[0;32myield\u001b[0m \u001b[0mseg\u001b[0m\u001b[0;34m\u001b[0m\u001b[0m\n\u001b[1;32m    306\u001b[0m                 \u001b[0;32mreturn\u001b[0m\u001b[0;34m\u001b[0m\u001b[0m\n",
      "\u001b[0;32m/Users/justinhilliard/anaconda/envs/python27/lib/python2.7/site-packages/matplotlib/axes/_base.pyc\u001b[0m in \u001b[0;36m_plot_args\u001b[0;34m(self, tup, kwargs)\u001b[0m\n\u001b[1;32m    280\u001b[0m             \u001b[0mx\u001b[0m \u001b[0;34m=\u001b[0m \u001b[0mnp\u001b[0m\u001b[0;34m.\u001b[0m\u001b[0marange\u001b[0m\u001b[0;34m(\u001b[0m\u001b[0my\u001b[0m\u001b[0;34m.\u001b[0m\u001b[0mshape\u001b[0m\u001b[0;34m[\u001b[0m\u001b[0;36m0\u001b[0m\u001b[0;34m]\u001b[0m\u001b[0;34m,\u001b[0m \u001b[0mdtype\u001b[0m\u001b[0;34m=\u001b[0m\u001b[0mfloat\u001b[0m\u001b[0;34m)\u001b[0m\u001b[0;34m\u001b[0m\u001b[0m\n\u001b[1;32m    281\u001b[0m \u001b[0;34m\u001b[0m\u001b[0m\n\u001b[0;32m--> 282\u001b[0;31m         \u001b[0mx\u001b[0m\u001b[0;34m,\u001b[0m \u001b[0my\u001b[0m \u001b[0;34m=\u001b[0m \u001b[0mself\u001b[0m\u001b[0;34m.\u001b[0m\u001b[0m_xy_from_xy\u001b[0m\u001b[0;34m(\u001b[0m\u001b[0mx\u001b[0m\u001b[0;34m,\u001b[0m \u001b[0my\u001b[0m\u001b[0;34m)\u001b[0m\u001b[0;34m\u001b[0m\u001b[0m\n\u001b[0m\u001b[1;32m    283\u001b[0m \u001b[0;34m\u001b[0m\u001b[0m\n\u001b[1;32m    284\u001b[0m         \u001b[0;32mif\u001b[0m \u001b[0mself\u001b[0m\u001b[0;34m.\u001b[0m\u001b[0mcommand\u001b[0m \u001b[0;34m==\u001b[0m \u001b[0;34m'plot'\u001b[0m\u001b[0;34m:\u001b[0m\u001b[0;34m\u001b[0m\u001b[0m\n",
      "\u001b[0;32m/Users/justinhilliard/anaconda/envs/python27/lib/python2.7/site-packages/matplotlib/axes/_base.pyc\u001b[0m in \u001b[0;36m_xy_from_xy\u001b[0;34m(self, x, y)\u001b[0m\n\u001b[1;32m    221\u001b[0m         \u001b[0my\u001b[0m \u001b[0;34m=\u001b[0m \u001b[0mnp\u001b[0m\u001b[0;34m.\u001b[0m\u001b[0matleast_1d\u001b[0m\u001b[0;34m(\u001b[0m\u001b[0my\u001b[0m\u001b[0;34m)\u001b[0m\u001b[0;34m\u001b[0m\u001b[0m\n\u001b[1;32m    222\u001b[0m         \u001b[0;32mif\u001b[0m \u001b[0mx\u001b[0m\u001b[0;34m.\u001b[0m\u001b[0mshape\u001b[0m\u001b[0;34m[\u001b[0m\u001b[0;36m0\u001b[0m\u001b[0;34m]\u001b[0m \u001b[0;34m!=\u001b[0m \u001b[0my\u001b[0m\u001b[0;34m.\u001b[0m\u001b[0mshape\u001b[0m\u001b[0;34m[\u001b[0m\u001b[0;36m0\u001b[0m\u001b[0;34m]\u001b[0m\u001b[0;34m:\u001b[0m\u001b[0;34m\u001b[0m\u001b[0m\n\u001b[0;32m--> 223\u001b[0;31m             \u001b[0;32mraise\u001b[0m \u001b[0mValueError\u001b[0m\u001b[0;34m(\u001b[0m\u001b[0;34m\"x and y must have same first dimension\"\u001b[0m\u001b[0;34m)\u001b[0m\u001b[0;34m\u001b[0m\u001b[0m\n\u001b[0m\u001b[1;32m    224\u001b[0m         \u001b[0;32mif\u001b[0m \u001b[0mx\u001b[0m\u001b[0;34m.\u001b[0m\u001b[0mndim\u001b[0m \u001b[0;34m>\u001b[0m \u001b[0;36m2\u001b[0m \u001b[0;32mor\u001b[0m \u001b[0my\u001b[0m\u001b[0;34m.\u001b[0m\u001b[0mndim\u001b[0m \u001b[0;34m>\u001b[0m \u001b[0;36m2\u001b[0m\u001b[0;34m:\u001b[0m\u001b[0;34m\u001b[0m\u001b[0m\n\u001b[1;32m    225\u001b[0m             \u001b[0;32mraise\u001b[0m \u001b[0mValueError\u001b[0m\u001b[0;34m(\u001b[0m\u001b[0;34m\"x and y can be no greater than 2-D\"\u001b[0m\u001b[0;34m)\u001b[0m\u001b[0;34m\u001b[0m\u001b[0m\n",
      "\u001b[0;31mValueError\u001b[0m: x and y must have same first dimension"
     ]
    },
    {
     "data": {
      "image/png": "[encoded data removed]",
      "text/plain": [
       "<matplotlib.figure.Figure at 0x10c630810>"
      ]
     },
     "metadata": {},
     "output_type": "display_data"
    }
   ],
   "source": [
    "import numpy as np\n",
    "import matplotlib.mlab as mlab\n",
    "import matplotlib.pyplot as plt\n",
    "\n",
    "\n",
    "dayArr = [0]*364\n",
    "towArr = [0]*20\n",
    "\n",
    "for key,val in dayCatagoryHash.items():\n",
    "    dayArr[key-1] = len(val)\n",
    "    \n",
    "for key,val in wTowerCatagoryHash.items():\n",
    "    towArr[key-1] = len(val)\n",
    "\n",
    "# # example data\n",
    "mu = 100 # mean of distribution\n",
    "sigma = 15 # standard deviation of distribution\n",
    "# x = mu + sigma * np.random.randn(10000)\n",
    "\n",
    "num_bins = 365\n",
    "# the histogram of the data\n",
    "n, bins, patches = plt.hist(dayArr, num_bins, normed=1, facecolor='green', alpha=0.5)\n",
    "# add a 'best fit' line\n",
    "y = num_bins\n",
    "plt.plot(bins, n, 'r--')\n",
    "\n",
    "# Tweak spacing to prevent clipping of ylabel\n",
    "plt.subplots_adjust(left=0.15)\n",
    "plt.show()"
   ]
  },
  {
   "cell_type": "code",
   "execution_count": null,
   "metadata": {
    "collapsed": false,
    "scrolled": false
   },
   "outputs": [],
   "source": [
    "\n",
    "N = 50\n",
    "x = np.random.rand(N)\n",
    "y = np.random.rand(N)\n",
    "colors = np.random.rand(N)\n",
    "area = np.pi * (15 * np.random.rand(N))**2 # 0 to 15 point radiuses\n",
    "\n",
    "# print(x)\n",
    "# print(y)\n",
    "# print(colors)\n",
    "# print(area)\n",
    "\n",
    "dayArr = [0]*364\n",
    "towArr = [0]*20\n",
    "\n",
    "for key,val in dayCatagoryHash.items():\n",
    "    dayArr[key-1] = len(val)\n",
    "    \n",
    "count=0\n",
    "countI=0\n",
    "dayArrAdjust=[0]*20\n",
    "for x in dayArr:\n",
    "    dayArrAdjust[countI] = dayArrAdjust[countI] + x\n",
    "    if count%19 == 18:\n",
    "        countI+=1\n",
    "    count+=1\n",
    "    \n",
    "    \n",
    "print(dayArrAdjust)\n",
    "\n",
    "for key,val in wTowerCatagoryHash.items():\n",
    "    towArr[key-1] = len(val)\n",
    "    \n",
    "print(towArr)\n",
    "print(colors[:20])\n",
    "\n",
    "Darea = [0]*20\n",
    "Tarea = [0]*20\n",
    "Farea = [0]*20\n",
    "for x in range(towArr):\n",
    "    Tarea[x]=towArr[x]/max(towArr)\n",
    "    \n",
    "for x in range(dayArrAdjust):\n",
    "    Darea[x]=dayArrAdjust[x]/max(dayArrAdjust)\n",
    "    \n",
    "for x in range(Tarea):\n",
    "    Farea[x] = (Tarea[x]+Darea[x])/2\n",
    "print(Farea)\n",
    "\n",
    "plt.scatter(dayArrAdjust, towArr, s=area, c=colors, alpha=0.5)\n",
    "plt.show()"
   ]
  },
  {
   "cell_type": "code",
   "execution_count": null,
   "metadata": {
    "collapsed": true
   },
   "outputs": [],
   "source": []
  },
  {
   "cell_type": "code",
   "execution_count": null,
   "metadata": {
    "collapsed": false
   },
   "outputs": [],
   "source": [
    "def sim(featureSet, comp, temp):\n",
    "    ksd = simDay( featureSet[0], comp[0], temp[0] ) \n",
    "    kwt = simWTower( featureSet[1], comp[1], temp[1] ) \n",
    "    \n",
    "    \n",
    "def simDay( dayCatagoryHash, compDay, tempDay):\n",
    "    for key,val in dayCatagoryHash.items():\n",
    "        sVal = key - \n",
    "        "
   ]
  },
  {
   "cell_type": "code",
   "execution_count": null,
   "metadata": {
    "collapsed": true
   },
   "outputs": [],
   "source": []
  }
 ],
 "metadata": {
  "kernelspec": {
   "display_name": "Python 3",
   "language": "python",
   "name": "python3"
  },
  "language_info": {
   "codemirror_mode": {
    "name": "ipython",
    "version": 3
   },
   "file_extension": ".py",
   "mimetype": "text/x-python",
   "name": "python",
   "nbconvert_exporter": "python",
   "pygments_lexer": "ipython3",
   "version": "3.4.2"
  }
 },
 "nbformat": 4,
 "nbformat_minor": 0
}
