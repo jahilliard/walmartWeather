{
 "cells": [
  {
   "cell_type": "code",
   "execution_count": 5,
   "metadata": {
    "collapsed": false
   },
   "outputs": [],
   "source": [
    "import csv\n",
    "from pprint import pprint as pp"
   ]
  },
  {
   "cell_type": "code",
   "execution_count": null,
   "metadata": {
    "collapsed": false
   },
   "outputs": [],
   "source": [
    "def loadData(fname, dataStructure):\n",
    "    count = 0\n",
    "    with open(fname) as f:\n",
    "        content = f.readlines()\n",
    "    for line in content:\n",
    "        if count is not 0:\n",
    "            line = line.strip()\n",
    "            line = line.split(',')\n",
    "            if dataStructure.get(line[0]) is None:\n",
    "                dataStructure[line[0]] = []\n",
    "                dataStructure[line[0]].append(line[1:])\n",
    "            else:\n",
    "                dataStructure[line[0]].append(line[1:])\n",
    "        count+=1\n",
    "    print(\"Done \" + fname)\n",
    "        \n",
    "def loadFiles():\n",
    "    global keyDict, trainDict, weatherDict\n",
    "    keyDict = {}\n",
    "    weatherDict = {}\n",
    "    trainDict = {}\n",
    "    dataStruct = [keyDict, trainDict, weatherDict]\n",
    "    count=0\n",
    "    for x in ['key.csv', 'train.csv', 'weather.csv']:\n",
    "        loadData(x, dataStruct[count])\n",
    "        count+=1\n",
    "\n",
    "loadFiles()"
   ]
  },
  {
   "cell_type": "code",
   "execution_count": null,
   "metadata": {
    "collapsed": true
   },
   "outputs": [],
   "source": []
  }
 ],
 "metadata": {
  "kernelspec": {
   "display_name": "Python 3",
   "language": "python",
   "name": "python3"
  },
  "language_info": {
   "codemirror_mode": {
    "name": "ipython",
    "version": 3
   },
   "file_extension": ".py",
   "mimetype": "text/x-python",
   "name": "python",
   "nbconvert_exporter": "python",
   "pygments_lexer": "ipython3",
   "version": "3.4.2"
  }
 },
 "nbformat": 4,
 "nbformat_minor": 0
}
