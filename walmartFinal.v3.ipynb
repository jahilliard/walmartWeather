{
 "metadata": {
  "kernelspec": {
   "display_name": "Python 3",
   "language": "python",
   "name": "python3"
  },
  "language_info": {
   "codemirror_mode": {
    "name": "ipython",
    "version": 3
   },
   "file_extension": ".py",
   "mimetype": "text/x-python",
   "name": "python",
   "nbconvert_exporter": "python",
   "pygments_lexer": "ipython3",
   "version": "3.4.2"
  },
  "name": ""
 },
 "nbformat": 3,
 "nbformat_minor": 0,
 "worksheets": [
  {
   "cells": [
    {
     "cell_type": "code",
     "collapsed": true,
     "input": [
      "import time\n",
      "import math \n",
      "import copy\n",
      "import random\n",
      "import statistics"
     ],
     "language": "python",
     "metadata": {},
     "outputs": [],
     "prompt_number": 7
    },
    {
     "cell_type": "heading",
     "level": 2,
     "metadata": {},
     "source": [
      "Run KNN Simulation"
     ]
    },
    {
     "cell_type": "code",
     "collapsed": false,
     "input": [
      "##This has its own cell block because it takes a long time to run\n",
      "loadFiles()"
     ],
     "language": "python",
     "metadata": {},
     "outputs": [
      {
       "output_type": "stream",
       "stream": "stdout",
       "text": [
        "Done key.csv\n",
        "Done train.csv\n",
        "Done weather.csv\n"
       ]
      }
     ],
     "prompt_number": 45
    },
    {
     "cell_type": "code",
     "collapsed": false,
     "input": [
      "global kNum \n",
      "kNum = 3\n",
      "\n",
      "notedDays = buildNotedDaysHash(keyDict, weatherDict)\n",
      "trainedPreStoreDict = buildPredictorTargetArr(keyDict, trainDict, notedDays, weatherDict)\n",
      "dataList = changeDateCreateKNNList(trainedPreStoreDict)\n",
      "trainingData, testData = createTestAndTrain(dataList)\n",
      "tempStdev = calculateSTDEV(trainingData)\n",
      "simDict, temp = sim(trainingData, testData, tempStdev)\n",
      "predictedDict = runCalcAcross(kNum, simDict)\n",
      "runNumRSMLEAcross(predictedDict, testData)"
     ],
     "language": "python",
     "metadata": {},
     "outputs": [
      {
       "output_type": "stream",
       "stream": "stdout",
       "text": [
        "Done\n",
        "2012-12-25 Failed\n",
        "2012-12-25 Failed\n",
        "Done\n",
        "Done\n",
        "Done\n",
        "17.206310400403936\n",
        "Done\n",
        "Done\n",
        "[0.1264238362738074, 0.46397432929648885, 0.0, 0.5515473687765077, 0.02143417651538101, 0.24632504249245765, 0.28172295361744615, 0.1850261838393629, 0.17060546450199643, 0.5645187097772335, 0.5487125528767476, 0.07544617027252339, 0.12197944623629102, 0.0, 0.0, 0.29823738199914823, 0.0, 0.5306051611654278, 0.0, 0.06648493476394668, 0.0, 0.39095386395950593, 0.31619701437462877, 0.0, 0.0, 0.0, 0.0, 0.5670061843139386, 0.31121948306841873, 0.0, 0.46533965396403737, 0.17622640202380566, 0.0, 0.49244236951180576, 0.18529767939542724, 0.3398744949273095, 0.3526718538680476, 0.4472215788595371, 0.0, 0.0, 0.0, 0.37373996829108086, 0.22915783510240442, 0.49311796379331513, 0.5319412998384861, 0.0, 0.5749553033803324, 0.13617007155982325, 0.44252852538044196, 0.35273361300503825, 0.0, 0.0, 0.5607418250239419, 0.4232136893771569, 0.4643177829819903, 0.8083155919805591, 0.0, 0.09002672437812297, 0.5499115986991971, 0.32735944091882707, 0.44125289414186947, 0.4994708668206142, 0.0, 0.22035538110899971, 0.40342404292699247, 0.0, 0.0, 0.440432760529161, 0.0, 0.4872842302148274, 0.0, 0.17691509471015573, 0.37235884579587447, 0.0, 0.4648652467610678, 0.36472398785056737, 0.0, 0.1092687166631235, 0.0, 0.0, 0.0, 0.0, 0.48394734943862766, 0.0, 0.10443230621866062, 0.40099214014311396, 0.0, 0.0, 0.0746833458162796, 0.25184443113801075, 0.0, 0.0, 0.5652916954257775, 0.0, 0.38864871322082967, 0.0, 0.3758010230453413, 0.0, 0.16577974158349296, 0.0, 0.30674594064948973, 0.1651931090351768, 0.37128196398970376, 0.557595891489263, 0.0, 0.0, 0.29624750985587667, 0.14453684365193215, 0.4374741281012921, 0.42334317960658047, 0.0, 0.38954209552746677, 0.43497126615132076, 0.0758797931900331, 0.40167564792495253, 0.5641716895689882, 0.19050215542390708, 0.22608408523022777, 0.0, 0.0, 0.42505529020692007, 0.4934634691204014, 0.5258095545685456, 0.0, 0.32626673313081, 0.0, 0.6615028227441422, 0.4338152587700053]\n",
        "0.22889575598337789\n"
       ]
      }
     ],
     "prompt_number": 63
    },
    {
     "cell_type": "code",
     "collapsed": false,
     "input": [
      "def loadData(fname, dataStructure):\n",
      "    count = 0\n",
      "    with open(fname) as f:\n",
      "        content = f.readlines()\n",
      "    for line in content:\n",
      "        if count is not 0:\n",
      "            line = line.strip()\n",
      "            line = line.split(',')\n",
      "            if dataStructure.get(line[0]) is None:\n",
      "                dataStructure[line[0]] = []\n",
      "                dataStructure[line[0]].append(line[1:])\n",
      "            else:\n",
      "                dataStructure[line[0]].append(line[1:])\n",
      "        count+=1\n",
      "    print(\"Done \" + fname)\n",
      "        \n",
      "def loadFiles():\n",
      "    global keyDict, trainDict, weatherDict\n",
      "    keyDict = {}\n",
      "    weatherDict = {}\n",
      "    trainDict = {}\n",
      "    dataStruct = [keyDict, trainDict, weatherDict]\n",
      "    count=0\n",
      "    for x in ['key.csv', 'train.csv', 'weather.csv']:\n",
      "        loadData(x, dataStruct[count])\n",
      "        count+=1\n",
      "\n",
      "loadFiles()"
     ],
     "language": "python",
     "metadata": {},
     "outputs": [
      {
       "output_type": "stream",
       "stream": "stdout",
       "text": [
        "Done key.csv\n",
        "Done train.csv\n",
        "Done weather.csv\n"
       ]
      }
     ],
     "prompt_number": 3
    },
    {
     "cell_type": "markdown",
     "metadata": {
      "collapsed": true
     },
     "source": [
      "##Define Weather Event\n",
      "weather event as any day in which more than an inch of rain or two inches of snow was observed"
     ]
    },
    {
     "cell_type": "code",
     "collapsed": false,
     "input": [
      "def buildNotedDaysHash(keyDict, weatherDict):\n",
      "    toreturn = {}\n",
      "    for storeKey in range(1,46):\n",
      "        stationKey = keyDict[str(storeKey)][0][0]\n",
      "        weatherData = weatherDict[str(stationKey)]\n",
      "        first = True\n",
      "        for dayData in weatherData:\n",
      "            isNoted = 0\n",
      "            try:\n",
      "                if float(dayData[12]) > 2:\n",
      "                    isNoted = dayData\n",
      "            except ValueError:\n",
      "                pass\n",
      "            try:\n",
      "                if float(dayData[13]) > 1:\n",
      "                    isNoted = dayData\n",
      "            except ValueError:\n",
      "                pass\n",
      "            if first:\n",
      "                toreturn[storeKey] = []\n",
      "                toreturn[storeKey].append(isNoted)\n",
      "                first = False\n",
      "            else:\n",
      "                toreturn[storeKey].append(isNoted)\n",
      "    print(\"Done\")\n",
      "    return toreturn\n",
      "            \n",
      "global notedDays \n",
      "notedDays = buildNotedDaysHash(keyDict, weatherDict)"
     ],
     "language": "python",
     "metadata": {},
     "outputs": [
      {
       "output_type": "stream",
       "stream": "stdout",
       "text": [
        "Done\n"
       ]
      }
     ],
     "prompt_number": 4
    },
    {
     "cell_type": "code",
     "collapsed": false,
     "input": [
      "def buildPredictorTargetArr(keyDict, trainDict, notedDays, weatherDict):\n",
      "    indexJump = 3\n",
      "    arrSize = 115\n",
      "    toreturn = {}\n",
      "    for storeKey in range(1,46):\n",
      "        dayArr = notedDays[storeKey]\n",
      "        for x in dayArr:\n",
      "                if x != 0:\n",
      "                    if toreturn.get(storeKey) is None:\n",
      "                        tempArr = [0]*arrSize\n",
      "                        tempdate = x[0]\n",
      "                        tempArr[0] = tempdate\n",
      "                        tempArr[1] = int(keyDict[str(storeKey)][0][0])\n",
      "                        tempArr[3] = storeKey\n",
      "                        try:\n",
      "                            tempArr[2] = int(x[3])\n",
      "                        except ValueError:\n",
      "                            tempArr[2] = 'N/A'\n",
      "                        try:\n",
      "                            tempIter = trainDict[tempdate]\n",
      "                        except KeyError:\n",
      "                            print(str(x) + \" Failed\")\n",
      "                        for i in tempIter:\n",
      "                            if int(i[0]) == storeKey:\n",
      "                                tempIndex = int(i[1]) + indexJump\n",
      "                                tempArr[tempIndex] = int(i[2])\n",
      "                        toreturn[storeKey] = []\n",
      "                        toreturn[storeKey].append(tempArr)\n",
      "                    else:\n",
      "                        tempdate = x[0]\n",
      "                        try:\n",
      "                            tempIter = trainDict[tempdate]\n",
      "                        except KeyError:\n",
      "                            print(str(x[0]) + \" Failed\")\n",
      "                        tempArr = [0]*arrSize\n",
      "                        tempArr[0] = tempdate\n",
      "                        tempArr[1] = int(keyDict[str(storeKey)][0][0])\n",
      "                        tempArr[3] = storeKey\n",
      "                        try:\n",
      "                            tempArr[2] = int(x[3])\n",
      "                        except ValueError:\n",
      "                            tempArr[2] = 'N/A'\n",
      "                        for i in tempIter:\n",
      "                            if int(i[0]) == storeKey:\n",
      "                                tempIndex = int(i[1]) + indexJump\n",
      "                                tempArr[tempIndex] = int(i[2])\n",
      "                        toreturn[storeKey].append(tempArr)\n",
      "    print(\"Done\")\n",
      "    return toreturn\n",
      "\n",
      "global trainedPreStoreDict\n",
      "trainedPreStoreDict = buildPredictorTargetArr(keyDict, trainDict, notedDays, weatherDict)"
     ],
     "language": "python",
     "metadata": {},
     "outputs": [
      {
       "output_type": "stream",
       "stream": "stdout",
       "text": [
        "2012-12-25 Failed\n",
        "2012-12-25 Failed\n",
        "Done\n"
       ]
      }
     ],
     "prompt_number": 5
    },
    {
     "cell_type": "markdown",
     "metadata": {
      "collapsed": true
     },
     "source": [
      "##Notes\n",
      "\n",
      "No Train data available for days that the store is closed (ie Chirstmas) "
     ]
    },
    {
     "cell_type": "code",
     "collapsed": false,
     "input": [
      "def changeDateCreateKNNList(trainedPreStoreDict):\n",
      "    dataList = []\n",
      "    for key,value in trainedPreStoreDict.items():\n",
      "        for x in range(len(value)):\n",
      "            try:\n",
      "                tempDate = trainedPreStoreDict[key][x][0]\n",
      "                struct_time = time.strptime(tempDate, \"%Y-%m-%d\")\n",
      "                trainedPreStoreDict[key][x][0] = struct_time.tm_yday\n",
      "                dataList.append(trainedPreStoreDict[key][x])\n",
      "            except TypeError:\n",
      "                print(\"AlreadyFormatted\")\n",
      "                break\n",
      "    print(\"Done\")\n",
      "    return dataList\n",
      "        \n",
      "global dataList\n",
      "dataList = changeDateCreateKNNList(trainedPreStoreDict)"
     ],
     "language": "python",
     "metadata": {},
     "outputs": [
      {
       "output_type": "stream",
       "stream": "stdout",
       "text": [
        "Done\n"
       ]
      }
     ],
     "prompt_number": 8
    },
    {
     "cell_type": "code",
     "collapsed": false,
     "input": [
      "def createTestAndTrain(data):\n",
      "    trainingData = copy.deepcopy(data)\n",
      "    testData = []\n",
      "    for i in range(len(trainingData)//10):\n",
      "        testData.append(trainingData.pop(random.randint(0, len(trainingData)-1)))\n",
      "    print(\"Done\")\n",
      "    return trainingData, testData\n",
      "\n",
      "global trainingData, testData\n",
      "trainingData, testData = createTestAndTrain(dataList)"
     ],
     "language": "python",
     "metadata": {},
     "outputs": [
      {
       "output_type": "stream",
       "stream": "stdout",
       "text": [
        "Done\n"
       ]
      }
     ],
     "prompt_number": 9
    },
    {
     "cell_type": "code",
     "collapsed": false,
     "input": [
      "def calculateSTDEV(trainingData):\n",
      "    tempCalc = []\n",
      "    for x in trainingData:\n",
      "        if x[2] != 'N/A':\n",
      "            tempCalc.append(x[2])\n",
      "    stDev= statistics.stdev(tempCalc)\n",
      "    print(stDev)\n",
      "    return stDev\n",
      "\n",
      "global tempStdev\n",
      "tempStdev = calculateSTDEV(trainingData)"
     ],
     "language": "python",
     "metadata": {},
     "outputs": [
      {
       "output_type": "stream",
       "stream": "stdout",
       "text": [
        "17.313092829775357\n"
       ]
      }
     ],
     "prompt_number": 10
    },
    {
     "cell_type": "code",
     "collapsed": false,
     "input": [
      "def sim(trainingData, testData, tempStdev):\n",
      "    simDictFORPLOT = {}\n",
      "    numberOfPredictors = 4\n",
      "    tempIndexTest = 0 \n",
      "    testKScoredArr = {}\n",
      "    for compare in testData:\n",
      "        simArr = []\n",
      "        simArrFORPLOT= []\n",
      "        for x in trainingData:\n",
      "            tempScore = 0\n",
      "            dateDist = abs(compare[0] - x[0])\n",
      "            tempScore += 10 - (dateDist/365)*10\n",
      "            if x[2] != 'N/A' and compare[2] != 'N/A':\n",
      "                tempuratureDist = abs(compare[2] - x[2])\n",
      "                tempScore += 10 - (tempuratureDist/tempStdev)*10\n",
      "            if x[1] == compare[1]:\n",
      "                tempScore += 3\n",
      "            if x[3] == compare[3]:\n",
      "                tempScore += 1\n",
      "            simArr1.append((float(tempScore), x[numberOfPredictors:]))\n",
      "            simArrFORPLOT.append((float(tempScore), x))\n",
      "        simArr.sort()\n",
      "        simArrFORPLOT.sort()\n",
      "        simArr.reverse()\n",
      "        simArrFORPLOT.sort()\n",
      "        testKScoredArr[tempIndexTest] = simDict1\n",
      "        simDictFORPLOT[tempIndexTest] = simArrFORPLOT\n",
      "        tempIndexTest+=1\n",
      "    print(\"Done\")\n",
      "    return testKScoredArr, simDictFORPLOT\n",
      "\n",
      "global simDict, simDictFORPLOT\n",
      "simDict, simDictFORPLOT = sim(trainingData, testData, tempStdev)"
     ],
     "language": "python",
     "metadata": {
      "scrolled": true
     },
     "outputs": [
      {
       "output_type": "stream",
       "stream": "stdout",
       "text": [
        "Done\n"
       ]
      }
     ],
     "prompt_number": 51
    },
    {
     "cell_type": "code",
     "collapsed": false,
     "input": [
      "def runCalcAcross(k, simDict):\n",
      "    predictedDict = {}\n",
      "    for key,val in simDict.items():\n",
      "        tempPredArr = calcUnits(k, val)\n",
      "        predictedDict[key] = tempPredArr\n",
      "    print(\"Done\")\n",
      "    return predictedDict\n",
      "\n",
      "def calcUnits(k, simArr):\n",
      "    workDict = simArr[:k]\n",
      "    kmax = max(workDict)[0]\n",
      "    weightTot = 0\n",
      "    predictedArr = [0]*111\n",
      "    wieghtSumArr = [0]*111\n",
      "    for x in workDict:\n",
      "        itemsArr = x[1] \n",
      "        weight = (x[0]/kmax)\n",
      "        weightTot += weight\n",
      "        for i in range(111):\n",
      "            wieghtSumArr[i] = wieghtSumArr[i] + (itemsArr[i]*weight)\n",
      "    for i in range(111):\n",
      "            predictedArr[i] = (wieghtSumArr[i]/weightTot)\n",
      "    return predictedArr\n",
      "    \n",
      "global predictedDict\n",
      "predictedDict = runCalcAcross(kNum, simDict)"
     ],
     "language": "python",
     "metadata": {},
     "outputs": [
      {
       "output_type": "stream",
       "stream": "stdout",
       "text": [
        "Done\n"
       ]
      }
     ],
     "prompt_number": 16
    },
    {
     "cell_type": "code",
     "collapsed": false,
     "input": [
      "def runNumRSMLEAcross(predictedDict, compareTotalArr):\n",
      "    numberOfPredictors = 4\n",
      "    global RSMLEList\n",
      "    RSMLEList = []\n",
      "    for key,val in predictedDict.items():\n",
      "        RSMLEList.append(EvaluationNumRSMLE(val, compareTotalArr[key][numberOfPredictors:]))\n",
      "    print(RSMLEList)\n",
      "    print(statistics.mean(RSMLEList))\n",
      "\n",
      "def EvaluationNumRSMLE(predictedArr, compareSingleArr):\n",
      "    tempLog = 0\n",
      "    for x in range(111):\n",
      "        tempLog = tempLog + (math.log(predictedArr[x] + 1) - math.log(compareSingleArr[x] + 1))**2\n",
      "    toRoot = (1/111)*tempLog\n",
      "    RSMLE = math.sqrt(toRoot)\n",
      "    return RSMLE\n",
      "    \n",
      "runNumRSMLEAcross(predictedDict, testData)"
     ],
     "language": "python",
     "metadata": {
      "scrolled": true
     },
     "outputs": [
      {
       "output_type": "stream",
       "stream": "stdout",
       "text": [
        "[0.1954340348024127, 0.4658667019424737, 0.427763079299457, 0.0, 0.0, 0.0, 0.10546080602768777, 0.03097854632555665, 0.4894716085829708, 0.04195822990073644, 0.0, 0.0, 0.06580092437969715, 0.0, 0.0, 0.0, 0.0, 0.0, 0.503410016177597, 0.6218721659488671, 0.4999907241582092, 0.0, 0.5418700944496821, 0.0, 0.15221958890635096, 0.0, 0.0, 0.951215818079532, 0.0, 0.11793702490328797, 0.6035571171003606, 0.03249465818490344, 0.5292983354396141, 0.1951969085841895, 0.13438459063054833, 0.0, 0.35974277873424715, 0.6149553314473684, 0.3919387250452506, 0.5733468242473716, 0.0, 0.0, 0.0, 0.6143019331245492, 0.0, 0.574043412414196, 0.5518075772321985, 0.0, 0.0, 0.247903093863759, 0.13261824055643173, 0.0, 0.3015964468216129, 0.0, 0.502375894040005, 0.0, 0.4255166059167964, 0.2678759774807383, 0.0, 0.7804402242180086, 0.09571741786854562, 0.0, 0.0, 0.5986207478932813, 0.0, 0.0, 0.5298991477276748, 0.0, 0.7986075120987889, 0.0, 0.0, 0.0, 0.0, 0.8083155919805591, 0.6294959231153414, 0.11280601347113538, 0.0, 0.219604834755878, 0.0, 0.36504753074301705, 0.5600738762104117, 0.0, 0.0, 0.0, 0.18704214456470555, 0.561069251096073, 0.32198343491932624, 0.0, 0.0, 0.7026868690051966, 0.0, 0.0, 0.0, 0.31729201343330415, 0.1478338777114268, 0.0, 0.0, 0.433610570893467, 0.0, 0.5289545007573173, 0.4057203436886836, 0.0, 0.0, 0.0, 0.0, 0.0, 0.0, 0.6218721659488671, 0.0, 0.0, 0.6273618090347348, 0.0, 0.6049594471471457, 0.16284469433335402, 0.0, 0.0, 0.0, 0.5143273874336258, 0.0, 0.0, 0.0, 0.15870488517860634, 0.0, 0.20293888533215396, 0.4597471999038565, 0.6000926153800558, 0.0, 0.0]\n",
        "0.19782714633275938\n"
       ]
      }
     ],
     "prompt_number": 15
    },
    {
     "cell_type": "heading",
     "level": 1,
     "metadata": {},
     "source": [
      "Deeper Analysis / Graph Section"
     ]
    },
    {
     "cell_type": "code",
     "collapsed": false,
     "input": [
      "def formatDataPlot(simDict, predictedDict, testData, k):\n",
      "    plotFormat = {}\n",
      "    for key in range(128):\n",
      "        plotFormat[key+1] = [testData[key]]+[predictedDict[key]]+[simDict[key][:k]]\n",
      "    print(\"Done\")\n",
      "    return plotFormat\n",
      "\n",
      "# RSMLEList other useful Data Structure\n",
      "hashFormatted = formatDataPlot(simDictFORPLOT, predictedDict, testData, kNum)"
     ],
     "language": "python",
     "metadata": {},
     "outputs": [
      {
       "output_type": "stream",
       "stream": "stdout",
       "text": [
        "Done\n"
       ]
      }
     ],
     "prompt_number": 54
    },
    {
     "cell_type": "heading",
     "level": 1,
     "metadata": {},
     "source": [
      "BELOW THIS IS WORK DONE BUT NEVER USED"
     ]
    },
    {
     "cell_type": "code",
     "collapsed": false,
     "input": [
      "def keyDictForKNN(keyDict):\n",
      "    modKeyDict = {}\n",
      "    dictList = []\n",
      "    for key,values in keyDict.items():\n",
      "        tempVal = int(values[0][0])\n",
      "        tempKey = int(key)\n",
      "        if tempKey not in dictList:\n",
      "            dictList.append(tempKey)\n",
      "            modKeyDict[tempKey] = tempVal\n",
      "    print(\"Done\")\n",
      "    return modKeyDict\n",
      "\n",
      "\n",
      "global modKeyDict        \n",
      "modKeyDict = keyDictForKNN(keyDict)"
     ],
     "language": "python",
     "metadata": {},
     "outputs": [
      {
       "output_type": "stream",
       "stream": "stdout",
       "text": [
        "Done\n"
       ]
      }
     ],
     "prompt_number": 33
    },
    {
     "cell_type": "code",
     "collapsed": false,
     "input": [
      "def KNNCatagoryHashGen(dataList, modKeyDict):\n",
      "    wTowerCatagoryHash = {}\n",
      "    dayCatagoryHash = {}\n",
      "    for x in dataList:\n",
      "        stationKey = modKeyDict[x[1]]\n",
      "        dayNum = x[0]\n",
      "        dayCatagoryHash = insertdayCatagoryHash(dayCatagoryHash, dayNum, x)\n",
      "        wTowerCatagoryHash = insertwTowerCatagoryHash(wTowerCatagoryHash, stationKey, x)\n",
      "    print(\"Done\")\n",
      "    return dayCatagoryHash, wTowerCatagoryHash\n",
      "        \n",
      "def insertdayCatagoryHash(dayCatagoryHash, dayNum ,x):\n",
      "    if dayCatagoryHash.get(dayNum) is None:\n",
      "        dayCatagoryHash[dayNum] = []\n",
      "        dayCatagoryHash[dayNum].append(x)\n",
      "    else:\n",
      "        dayCatagoryHash[dayNum].append(x)\n",
      "    return dayCatagoryHash\n",
      "    \n",
      "def insertwTowerCatagoryHash(wTowerCatagoryHash, stationKey, x):\n",
      "    if wTowerCatagoryHash.get(stationKey) is None:\n",
      "        wTowerCatagoryHash[stationKey] = []\n",
      "        wTowerCatagoryHash[stationKey].append(x)\n",
      "    else:\n",
      "        wTowerCatagoryHash[stationKey].append(x)\n",
      "    return wTowerCatagoryHash\n",
      "        \n",
      "        \n",
      "global dayCatagoryHash, wTowerCatagoryHash\n",
      "[dayCatagoryHash, wTowerCatagoryHash] = KNNCatagoryHashGen(dataList, modKeyDict)\n",
      "global featureSet\n",
      "featureSet = [dayCatagoryHash, wTowerCatagoryHash]"
     ],
     "language": "python",
     "metadata": {},
     "outputs": [
      {
       "output_type": "stream",
       "stream": "stdout",
       "text": [
        "Done\n"
       ]
      }
     ],
     "prompt_number": 8
    },
    {
     "cell_type": "code",
     "collapsed": false,
     "input": [
      "%matplotlib inline\n",
      "\n",
      "import matplotlib\n",
      "\n",
      "import numpy as np\n",
      "\n",
      "import matplotlib.pyplot as plt\n",
      "\n",
      "print(\"Done\")"
     ],
     "language": "python",
     "metadata": {},
     "outputs": [
      {
       "output_type": "stream",
       "stream": "stdout",
       "text": [
        "Done\n"
       ]
      }
     ],
     "prompt_number": 11
    },
    {
     "cell_type": "code",
     "collapsed": false,
     "input": [
      "import numpy as np\n",
      "import matplotlib.mlab as mlab\n",
      "import matplotlib.pyplot as plt\n",
      "\n",
      "\n",
      "dayArr = [0]*364\n",
      "towArr = [0]*20\n",
      "\n",
      "for key,val in dayCatagoryHash.items():\n",
      "    dayArr[key-1] = len(val)\n",
      "    \n",
      "for key,val in wTowerCatagoryHash.items():\n",
      "    towArr[key-1] = len(val)\n",
      "\n",
      "# # example data\n",
      "mu = 100 # mean of distribution\n",
      "sigma = 15 # standard deviation of distribution\n",
      "# x = mu + sigma * np.random.randn(10000)\n",
      "\n",
      "num_bins = 365\n",
      "# the histogram of the data\n",
      "n, bins, patches = plt.hist(dayArr, num_bins, normed=1, facecolor='green', alpha=0.5)\n",
      "# add a 'best fit' line\n",
      "y = num_bins\n",
      "plt.plot(bins, n, 'r--')\n",
      "\n",
      "# Tweak spacing to prevent clipping of ylabel\n",
      "plt.subplots_adjust(left=0.15)\n",
      "plt.show()"
     ],
     "language": "python",
     "metadata": {},
     "outputs": [
      {
       "ename": "ValueError",
       "evalue": "x and y must have same first dimension",
       "output_type": "pyerr",
       "traceback": [
        "\u001b[0;31m---------------------------------------------------------------------------\u001b[0m",
        "\u001b[0;31mValueError\u001b[0m                                Traceback (most recent call last)",
        "\u001b[0;32m<ipython-input-47-bd357d770f89>\u001b[0m in \u001b[0;36m<module>\u001b[0;34m()\u001b[0m\n\u001b[1;32m     23\u001b[0m \u001b[0;31m# add a 'best fit' line\u001b[0m\u001b[0;34m\u001b[0m\u001b[0;34m\u001b[0m\u001b[0m\n\u001b[1;32m     24\u001b[0m \u001b[0my\u001b[0m \u001b[0;34m=\u001b[0m \u001b[0mnum_bins\u001b[0m\u001b[0;34m\u001b[0m\u001b[0m\n\u001b[0;32m---> 25\u001b[0;31m \u001b[0mplt\u001b[0m\u001b[0;34m.\u001b[0m\u001b[0mplot\u001b[0m\u001b[0;34m(\u001b[0m\u001b[0mbins\u001b[0m\u001b[0;34m,\u001b[0m \u001b[0mn\u001b[0m\u001b[0;34m,\u001b[0m \u001b[0;34m'r--'\u001b[0m\u001b[0;34m)\u001b[0m\u001b[0;34m\u001b[0m\u001b[0m\n\u001b[0m\u001b[1;32m     26\u001b[0m \u001b[0;34m\u001b[0m\u001b[0m\n\u001b[1;32m     27\u001b[0m \u001b[0;31m# Tweak spacing to prevent clipping of ylabel\u001b[0m\u001b[0;34m\u001b[0m\u001b[0;34m\u001b[0m\u001b[0m\n",
        "\u001b[0;32m/Users/justinhilliard/anaconda/envs/python27/lib/python2.7/site-packages/matplotlib/pyplot.pyc\u001b[0m in \u001b[0;36mplot\u001b[0;34m(*args, **kwargs)\u001b[0m\n\u001b[1;32m   3097\u001b[0m         \u001b[0max\u001b[0m\u001b[0;34m.\u001b[0m\u001b[0mhold\u001b[0m\u001b[0;34m(\u001b[0m\u001b[0mhold\u001b[0m\u001b[0;34m)\u001b[0m\u001b[0;34m\u001b[0m\u001b[0m\n\u001b[1;32m   3098\u001b[0m     \u001b[0;32mtry\u001b[0m\u001b[0;34m:\u001b[0m\u001b[0;34m\u001b[0m\u001b[0m\n\u001b[0;32m-> 3099\u001b[0;31m         \u001b[0mret\u001b[0m \u001b[0;34m=\u001b[0m \u001b[0max\u001b[0m\u001b[0;34m.\u001b[0m\u001b[0mplot\u001b[0m\u001b[0;34m(\u001b[0m\u001b[0;34m*\u001b[0m\u001b[0margs\u001b[0m\u001b[0;34m,\u001b[0m \u001b[0;34m**\u001b[0m\u001b[0mkwargs\u001b[0m\u001b[0;34m)\u001b[0m\u001b[0;34m\u001b[0m\u001b[0m\n\u001b[0m\u001b[1;32m   3100\u001b[0m         \u001b[0mdraw_if_interactive\u001b[0m\u001b[0;34m(\u001b[0m\u001b[0;34m)\u001b[0m\u001b[0;34m\u001b[0m\u001b[0m\n\u001b[1;32m   3101\u001b[0m     \u001b[0;32mfinally\u001b[0m\u001b[0;34m:\u001b[0m\u001b[0;34m\u001b[0m\u001b[0m\n",
        "\u001b[0;32m/Users/justinhilliard/anaconda/envs/python27/lib/python2.7/site-packages/matplotlib/axes/_axes.pyc\u001b[0m in \u001b[0;36mplot\u001b[0;34m(self, *args, **kwargs)\u001b[0m\n\u001b[1;32m   1371\u001b[0m         \u001b[0mlines\u001b[0m \u001b[0;34m=\u001b[0m \u001b[0;34m[\u001b[0m\u001b[0;34m]\u001b[0m\u001b[0;34m\u001b[0m\u001b[0m\n\u001b[1;32m   1372\u001b[0m \u001b[0;34m\u001b[0m\u001b[0m\n\u001b[0;32m-> 1373\u001b[0;31m         \u001b[0;32mfor\u001b[0m \u001b[0mline\u001b[0m \u001b[0;32min\u001b[0m \u001b[0mself\u001b[0m\u001b[0;34m.\u001b[0m\u001b[0m_get_lines\u001b[0m\u001b[0;34m(\u001b[0m\u001b[0;34m*\u001b[0m\u001b[0margs\u001b[0m\u001b[0;34m,\u001b[0m \u001b[0;34m**\u001b[0m\u001b[0mkwargs\u001b[0m\u001b[0;34m)\u001b[0m\u001b[0;34m:\u001b[0m\u001b[0;34m\u001b[0m\u001b[0m\n\u001b[0m\u001b[1;32m   1374\u001b[0m             \u001b[0mself\u001b[0m\u001b[0;34m.\u001b[0m\u001b[0madd_line\u001b[0m\u001b[0;34m(\u001b[0m\u001b[0mline\u001b[0m\u001b[0;34m)\u001b[0m\u001b[0;34m\u001b[0m\u001b[0m\n\u001b[1;32m   1375\u001b[0m             \u001b[0mlines\u001b[0m\u001b[0;34m.\u001b[0m\u001b[0mappend\u001b[0m\u001b[0;34m(\u001b[0m\u001b[0mline\u001b[0m\u001b[0;34m)\u001b[0m\u001b[0;34m\u001b[0m\u001b[0m\n",
        "\u001b[0;32m/Users/justinhilliard/anaconda/envs/python27/lib/python2.7/site-packages/matplotlib/axes/_base.pyc\u001b[0m in \u001b[0;36m_grab_next_args\u001b[0;34m(self, *args, **kwargs)\u001b[0m\n\u001b[1;32m    302\u001b[0m                 \u001b[0;32mreturn\u001b[0m\u001b[0;34m\u001b[0m\u001b[0m\n\u001b[1;32m    303\u001b[0m             \u001b[0;32mif\u001b[0m \u001b[0mlen\u001b[0m\u001b[0;34m(\u001b[0m\u001b[0mremaining\u001b[0m\u001b[0;34m)\u001b[0m \u001b[0;34m<=\u001b[0m \u001b[0;36m3\u001b[0m\u001b[0;34m:\u001b[0m\u001b[0;34m\u001b[0m\u001b[0m\n\u001b[0;32m--> 304\u001b[0;31m                 \u001b[0;32mfor\u001b[0m \u001b[0mseg\u001b[0m \u001b[0;32min\u001b[0m \u001b[0mself\u001b[0m\u001b[0;34m.\u001b[0m\u001b[0m_plot_args\u001b[0m\u001b[0;34m(\u001b[0m\u001b[0mremaining\u001b[0m\u001b[0;34m,\u001b[0m \u001b[0mkwargs\u001b[0m\u001b[0;34m)\u001b[0m\u001b[0;34m:\u001b[0m\u001b[0;34m\u001b[0m\u001b[0m\n\u001b[0m\u001b[1;32m    305\u001b[0m                     \u001b[0;32myield\u001b[0m \u001b[0mseg\u001b[0m\u001b[0;34m\u001b[0m\u001b[0m\n\u001b[1;32m    306\u001b[0m                 \u001b[0;32mreturn\u001b[0m\u001b[0;34m\u001b[0m\u001b[0m\n",
        "\u001b[0;32m/Users/justinhilliard/anaconda/envs/python27/lib/python2.7/site-packages/matplotlib/axes/_base.pyc\u001b[0m in \u001b[0;36m_plot_args\u001b[0;34m(self, tup, kwargs)\u001b[0m\n\u001b[1;32m    280\u001b[0m             \u001b[0mx\u001b[0m \u001b[0;34m=\u001b[0m \u001b[0mnp\u001b[0m\u001b[0;34m.\u001b[0m\u001b[0marange\u001b[0m\u001b[0;34m(\u001b[0m\u001b[0my\u001b[0m\u001b[0;34m.\u001b[0m\u001b[0mshape\u001b[0m\u001b[0;34m[\u001b[0m\u001b[0;36m0\u001b[0m\u001b[0;34m]\u001b[0m\u001b[0;34m,\u001b[0m \u001b[0mdtype\u001b[0m\u001b[0;34m=\u001b[0m\u001b[0mfloat\u001b[0m\u001b[0;34m)\u001b[0m\u001b[0;34m\u001b[0m\u001b[0m\n\u001b[1;32m    281\u001b[0m \u001b[0;34m\u001b[0m\u001b[0m\n\u001b[0;32m--> 282\u001b[0;31m         \u001b[0mx\u001b[0m\u001b[0;34m,\u001b[0m \u001b[0my\u001b[0m \u001b[0;34m=\u001b[0m \u001b[0mself\u001b[0m\u001b[0;34m.\u001b[0m\u001b[0m_xy_from_xy\u001b[0m\u001b[0;34m(\u001b[0m\u001b[0mx\u001b[0m\u001b[0;34m,\u001b[0m \u001b[0my\u001b[0m\u001b[0;34m)\u001b[0m\u001b[0;34m\u001b[0m\u001b[0m\n\u001b[0m\u001b[1;32m    283\u001b[0m \u001b[0;34m\u001b[0m\u001b[0m\n\u001b[1;32m    284\u001b[0m         \u001b[0;32mif\u001b[0m \u001b[0mself\u001b[0m\u001b[0;34m.\u001b[0m\u001b[0mcommand\u001b[0m \u001b[0;34m==\u001b[0m \u001b[0;34m'plot'\u001b[0m\u001b[0;34m:\u001b[0m\u001b[0;34m\u001b[0m\u001b[0m\n",
        "\u001b[0;32m/Users/justinhilliard/anaconda/envs/python27/lib/python2.7/site-packages/matplotlib/axes/_base.pyc\u001b[0m in \u001b[0;36m_xy_from_xy\u001b[0;34m(self, x, y)\u001b[0m\n\u001b[1;32m    221\u001b[0m         \u001b[0my\u001b[0m \u001b[0;34m=\u001b[0m \u001b[0mnp\u001b[0m\u001b[0;34m.\u001b[0m\u001b[0matleast_1d\u001b[0m\u001b[0;34m(\u001b[0m\u001b[0my\u001b[0m\u001b[0;34m)\u001b[0m\u001b[0;34m\u001b[0m\u001b[0m\n\u001b[1;32m    222\u001b[0m         \u001b[0;32mif\u001b[0m \u001b[0mx\u001b[0m\u001b[0;34m.\u001b[0m\u001b[0mshape\u001b[0m\u001b[0;34m[\u001b[0m\u001b[0;36m0\u001b[0m\u001b[0;34m]\u001b[0m \u001b[0;34m!=\u001b[0m \u001b[0my\u001b[0m\u001b[0;34m.\u001b[0m\u001b[0mshape\u001b[0m\u001b[0;34m[\u001b[0m\u001b[0;36m0\u001b[0m\u001b[0;34m]\u001b[0m\u001b[0;34m:\u001b[0m\u001b[0;34m\u001b[0m\u001b[0m\n\u001b[0;32m--> 223\u001b[0;31m             \u001b[0;32mraise\u001b[0m \u001b[0mValueError\u001b[0m\u001b[0;34m(\u001b[0m\u001b[0;34m\"x and y must have same first dimension\"\u001b[0m\u001b[0;34m)\u001b[0m\u001b[0;34m\u001b[0m\u001b[0m\n\u001b[0m\u001b[1;32m    224\u001b[0m         \u001b[0;32mif\u001b[0m \u001b[0mx\u001b[0m\u001b[0;34m.\u001b[0m\u001b[0mndim\u001b[0m \u001b[0;34m>\u001b[0m \u001b[0;36m2\u001b[0m \u001b[0;32mor\u001b[0m \u001b[0my\u001b[0m\u001b[0;34m.\u001b[0m\u001b[0mndim\u001b[0m \u001b[0;34m>\u001b[0m \u001b[0;36m2\u001b[0m\u001b[0;34m:\u001b[0m\u001b[0;34m\u001b[0m\u001b[0m\n\u001b[1;32m    225\u001b[0m             \u001b[0;32mraise\u001b[0m \u001b[0mValueError\u001b[0m\u001b[0;34m(\u001b[0m\u001b[0;34m\"x and y can be no greater than 2-D\"\u001b[0m\u001b[0;34m)\u001b[0m\u001b[0;34m\u001b[0m\u001b[0m\n",
        "\u001b[0;31mValueError\u001b[0m: x and y must have same first dimension"
       ]
      },
      {
       "metadata": {},
       "output_type": "display_data",
       "png": "[encoded data removed]",
       "text": [
        "<matplotlib.figure.Figure at 0x10c630810>"
       ]
      }
     ],
     "prompt_number": 47
    },
    {
     "cell_type": "code",
     "collapsed": false,
     "input": [
      "\n",
      "N = 50\n",
      "x = np.random.rand(N)\n",
      "y = np.random.rand(N)\n",
      "colors = np.random.rand(N)\n",
      "area = np.pi * (15 * np.random.rand(N))**2 # 0 to 15 point radiuses\n",
      "\n",
      "# print(x)\n",
      "# print(y)\n",
      "# print(colors)\n",
      "# print(area)\n",
      "\n",
      "dayArr = [0]*364\n",
      "towArr = [0]*20\n",
      "\n",
      "for key,val in dayCatagoryHash.items():\n",
      "    dayArr[key-1] = len(val)\n",
      "    \n",
      "count=0\n",
      "countI=0\n",
      "dayArrAdjust=[0]*20\n",
      "for x in dayArr:\n",
      "    dayArrAdjust[countI] = dayArrAdjust[countI] + x\n",
      "    if count%19 == 18:\n",
      "        countI+=1\n",
      "    count+=1\n",
      "    \n",
      "    \n",
      "print(dayArrAdjust)\n",
      "\n",
      "for key,val in wTowerCatagoryHash.items():\n",
      "    towArr[key-1] = len(val)\n",
      "    \n",
      "print(towArr)\n",
      "print(colors[:20])\n",
      "\n",
      "Darea = [0]*20\n",
      "Tarea = [0]*20\n",
      "Farea = [0]*20\n",
      "for x in range(towArr):\n",
      "    Tarea[x]=towArr[x]/max(towArr)\n",
      "    \n",
      "for x in range(dayArrAdjust):\n",
      "    Darea[x]=dayArrAdjust[x]/max(dayArrAdjust)\n",
      "    \n",
      "for x in range(Tarea):\n",
      "    Farea[x] = (Tarea[x]+Darea[x])/2\n",
      "print(Farea)\n",
      "\n",
      "plt.scatter(dayArrAdjust, towArr, s=area, c=colors, alpha=0.5)\n",
      "plt.show()"
     ],
     "language": "python",
     "metadata": {
      "scrolled": false
     },
     "outputs": [],
     "prompt_number": null
    },
    {
     "cell_type": "code",
     "collapsed": true,
     "input": [],
     "language": "python",
     "metadata": {},
     "outputs": [],
     "prompt_number": null
    },
    {
     "cell_type": "code",
     "collapsed": false,
     "input": [
      "def sim(featureSet, comp, temp):\n",
      "    ksd = simDay( featureSet[0], comp[0], temp[0] ) \n",
      "    kwt = simWTower( featureSet[1], comp[1], temp[1] ) \n",
      "    \n",
      "    \n",
      "def simDay( dayCatagoryHash, compDay, tempDay):\n",
      "    for key,val in dayCatagoryHash.items():\n",
      "        sVal = key - \n",
      "        "
     ],
     "language": "python",
     "metadata": {},
     "outputs": [],
     "prompt_number": null
    },
    {
     "cell_type": "code",
     "collapsed": true,
     "input": [],
     "language": "python",
     "metadata": {},
     "outputs": [],
     "prompt_number": null
    }
   ],
   "metadata": {}
  }
 ]
}