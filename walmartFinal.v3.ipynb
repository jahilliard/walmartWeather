{
 "metadata": {
  "kernelspec": {
   "display_name": "Python 3",
   "language": "python",
   "name": "python3"
  },
  "language_info": {
   "codemirror_mode": {
    "name": "ipython",
    "version": 3
   },
   "file_extension": ".py",
   "mimetype": "text/x-python",
   "name": "python",
   "nbconvert_exporter": "python",
   "pygments_lexer": "ipython3",
   "version": "3.4.2"
  },
  "name": ""
 },
 "nbformat": 3,
 "nbformat_minor": 0,
 "worksheets": [
  {
   "cells": [
    {
     "cell_type": "code",
     "collapsed": true,
     "input": [
      "import time\n",
      "import math "
     ],
     "language": "python",
     "metadata": {},
     "outputs": [],
     "prompt_number": 50
    },
    {
     "cell_type": "code",
     "collapsed": false,
     "input": [
      "def loadData(fname, dataStructure):\n",
      "    count = 0\n",
      "    with open(fname) as f:\n",
      "        content = f.readlines()\n",
      "    for line in content:\n",
      "        if count is not 0:\n",
      "            line = line.strip()\n",
      "            line = line.split(',')\n",
      "            if dataStructure.get(line[0]) is None:\n",
      "                dataStructure[line[0]] = []\n",
      "                dataStructure[line[0]].append(line[1:])\n",
      "            else:\n",
      "                dataStructure[line[0]].append(line[1:])\n",
      "        count+=1\n",
      "    print(\"Done \" + fname)\n",
      "        \n",
      "def loadFiles():\n",
      "    global keyDict, trainDict, weatherDict\n",
      "    keyDict = {}\n",
      "    weatherDict = {}\n",
      "    trainDict = {}\n",
      "    dataStruct = [keyDict, trainDict, weatherDict]\n",
      "    count=0\n",
      "    for x in ['key.csv', 'train.csv', 'weather.csv']:\n",
      "        loadData(x, dataStruct[count])\n",
      "        count+=1\n",
      "\n",
      "loadFiles()"
     ],
     "language": "python",
     "metadata": {},
     "outputs": [
      {
       "output_type": "stream",
       "stream": "stdout",
       "text": [
        "Done key.csv\n",
        "Done train.csv\n",
        "Done weather.csv\n"
       ]
      }
     ],
     "prompt_number": 1
    },
    {
     "cell_type": "markdown",
     "metadata": {
      "collapsed": true
     },
     "source": [
      "##Define Weather Event\n",
      "weather event as any day in which more than an inch of rain or two inches of snow was observed"
     ]
    },
    {
     "cell_type": "code",
     "collapsed": false,
     "input": [
      "def buildNotedDaysHash(keyDict, weatherDict):\n",
      "    toreturn = {}\n",
      "    for storeKey in range(1,46):\n",
      "        stationKey = keyDict[str(storeKey)][0][0]\n",
      "        weatherData = weatherDict[str(stationKey)]\n",
      "        first = True\n",
      "        for dayData in weatherData:\n",
      "            isNoted = 0\n",
      "            try:\n",
      "                if float(dayData[12]) > 2:\n",
      "                    isNoted = dayData[0]\n",
      "            except ValueError:\n",
      "                pass\n",
      "            try:\n",
      "                if float(dayData[13]) > 1:\n",
      "                    isNoted = dayData[0]\n",
      "            except ValueError:\n",
      "                pass\n",
      "            if first:\n",
      "                toreturn[storeKey] = []\n",
      "                toreturn[storeKey].append(isNoted)\n",
      "                first = False\n",
      "            else:\n",
      "                toreturn[storeKey].append(isNoted)\n",
      "    print(\"Done\")\n",
      "    return toreturn\n",
      "            \n",
      "global notedDays \n",
      "notedDays = buildNotedDaysHash(keyDict, weatherDict)"
     ],
     "language": "python",
     "metadata": {},
     "outputs": [
      {
       "output_type": "stream",
       "stream": "stdout",
       "text": [
        "Done\n"
       ]
      }
     ],
     "prompt_number": 3
    },
    {
     "cell_type": "code",
     "collapsed": false,
     "input": [
      "def buildPredictorTargetArr(keyDict, trainDict, notedDays, weatherDict):\n",
      "    toreturn = {}\n",
      "    for storeKey in range(1,46):\n",
      "        dayArr = notedDays[storeKey]\n",
      "        for x in dayArr:\n",
      "                if x != 0:\n",
      "                    if toreturn.get(storeKey) is None:\n",
      "                        tempArr = [0]*113\n",
      "                        tempArr[0] = x\n",
      "                        tempArr[1] = storeKey\n",
      "                        try:\n",
      "                            tempIter = trainDict[x]\n",
      "                        except KeyError:\n",
      "                            print(str(x) + \" Failed\")\n",
      "                        for i in tempIter:\n",
      "                            if int(i[0]) == storeKey:\n",
      "                                tempIndex = int(i[1]) + 1\n",
      "                                tempArr[tempIndex] = int(i[2])\n",
      "                        toreturn[storeKey] = []\n",
      "                        toreturn[storeKey].append(tempArr)\n",
      "                    else:\n",
      "                        try:\n",
      "                            tempIter = trainDict[x]\n",
      "                        except KeyError:\n",
      "                            print(str(x) + \" Failed\")\n",
      "                        tempArr = [0]*113\n",
      "                        tempArr[0] = x\n",
      "                        tempArr[1] = storeKey\n",
      "                        for i in tempIter:\n",
      "                            if int(i[0]) == storeKey:\n",
      "                                tempIndex = int(i[1]) + 1\n",
      "                                tempArr[tempIndex] = int(i[2])\n",
      "                        toreturn[storeKey].append(tempArr)\n",
      "    print(\"Done\")\n",
      "    return toreturn\n",
      "\n",
      "global trainedPreStoreDict\n",
      "trainedPreStoreDict = buildPredictorTargetArr(keyDict, trainDict, notedDays, weatherDict)"
     ],
     "language": "python",
     "metadata": {},
     "outputs": [
      {
       "output_type": "stream",
       "stream": "stdout",
       "text": [
        "2012-12-25 Failed\n",
        "2012-12-25 Failed\n",
        "Done\n"
       ]
      }
     ],
     "prompt_number": 5
    },
    {
     "cell_type": "markdown",
     "metadata": {
      "collapsed": true
     },
     "source": [
      "##Notes\n",
      "\n",
      "No Train data available for days that the store is closed (ie Chirstmas) "
     ]
    },
    {
     "cell_type": "code",
     "collapsed": false,
     "input": [
      "def changeDateCreateKNNList(trainedPreStoreDict):\n",
      "    dataList = []\n",
      "    for key,value in trainedPreStoreDict.items():\n",
      "        for x in range(len(value)):\n",
      "            tempDate = trainedPreStoreDict[key][x][0]\n",
      "            struct_time = time.strptime(tempDate, \"%Y-%m-%d\")\n",
      "            trainedPreStoreDict[key][x][0] = struct_time.tm_yday\n",
      "            dataList.append(trainedPreStoreDict[key][x])\n",
      "    print(\"Done\")\n",
      "    return dataList\n",
      "        \n",
      "global dataList\n",
      "dataList = changeDateCreateKNNList(trainedPreStoreDict)"
     ],
     "language": "python",
     "metadata": {},
     "outputs": [
      {
       "output_type": "stream",
       "stream": "stdout",
       "text": [
        "Done\n"
       ]
      }
     ],
     "prompt_number": 6
    },
    {
     "cell_type": "code",
     "collapsed": false,
     "input": [
      "def sim(dataList, compare):\n",
      "    scoredDays = []\n",
      "    simDict = []\n",
      "    for x in dataList:\n",
      "        tempScore = 0\n",
      "        if x[0] == compare[0]:\n",
      "            tempScore += 10\n",
      "        if x[1] == compare[1]:\n",
      "            tempScore += 5\n",
      "        simDict.append((tempScore, x))\n",
      "    simDict.sort()\n",
      "    simDict.reverse()\n",
      "    return simDict\n",
      "\n",
      "global simDict, compareArr, compareArrItems\n",
      "compareArr = dataList[0]\n",
      "compareArrItems = compareArr[2:]\n",
      "simDict = sim(dataList, compareArr)"
     ],
     "language": "python",
     "metadata": {},
     "outputs": [],
     "prompt_number": 69
    },
    {
     "cell_type": "code",
     "collapsed": false,
     "input": [
      "print(compareArrItems)"
     ],
     "language": "python",
     "metadata": {},
     "outputs": [
      {
       "output_type": "stream",
       "stream": "stdout",
       "text": [
        "[0, 0, 0, 0, 0, 0, 0, 0, 33, 0, 0, 0, 0, 0, 0, 0, 0, 0, 0, 0, 0, 0, 0, 0, 0, 0, 0, 2, 0, 0, 0, 0, 0, 0, 0, 0, 0, 0, 0, 0, 0, 0, 0, 0, 0, 0, 0, 0, 0, 0, 0, 0, 0, 0, 0, 0, 0, 0, 0, 0, 0, 0, 0, 0, 0, 0, 0, 0, 0, 0, 0, 0, 0, 0, 0, 0, 0, 0, 0, 0, 0, 0, 0, 0, 0, 0, 0, 0, 0, 0, 0, 0, 0, 0, 0, 0, 0, 0, 0, 0, 0, 0, 0, 0, 0, 0, 0, 0, 0, 0, 0]\n"
       ]
      }
     ],
     "prompt_number": 68
    },
    {
     "cell_type": "code",
     "collapsed": false,
     "input": [
      "def calcUnits(k, simDict):\n",
      "    workDict = simDict[:k]\n",
      "    predictedArr = [0]*111\n",
      "    for x in workDict:\n",
      "        dataArr = x[1]\n",
      "        itemsArr = dataArr[2:]\n",
      "        for x in range(len(itemsArr)):\n",
      "            predictedArr[x] = predictedArr[x] + (itemsArr[x]/k)\n",
      "    return predictedArr\n",
      "    \n",
      "global predictedArr\n",
      "predictedArr = calcUnits(3, simDict)"
     ],
     "language": "python",
     "metadata": {},
     "outputs": [],
     "prompt_number": 71
    },
    {
     "cell_type": "code",
     "collapsed": false,
     "input": [
      "def EvaluationNumRSMLE(predictedArr, compareArr):\n",
      "    tempLog = 0\n",
      "    for x in range(111):\n",
      "        tempLog = tempLog + (math.log(predictedArr[x] + 1) - math.log(compareArr[x] + 1))**2\n",
      "    toRoot = (1/111)*tempLog\n",
      "    RSMLE = math.sqrt(toRoot)\n",
      "    print(RSMLE)\n",
      "    print(predictedArr)\n",
      "    print(compareArr)\n",
      "    \n",
      "EvaluationNumRSMLE(predictedArr, compareArrItems)"
     ],
     "language": "python",
     "metadata": {
      "scrolled": true
     },
     "outputs": [
      {
       "output_type": "stream",
       "stream": "stdout",
       "text": [
        "0.2611640543732364\n",
        "[0.0, 0.0, 0.0, 0.0, 0.0, 0.0, 0.0, 0.0, 12.333333333333334, 0.0, 0.0, 0.0, 0.0, 0.0, 0.0, 7.333333333333333, 0.0, 0.0, 0.0, 0.0, 0.0, 0.0, 0.0, 0.0, 0.0, 0.0, 0.0, 0.6666666666666666, 0.0, 0.0, 0.0, 0.0, 0.0, 0.0, 0.0, 0.0, 0.0, 0.0, 0.0, 0.0, 0.0, 0.0, 0.0, 0.0, 0.0, 0.0, 0.0, 0.0, 0.0, 0.0, 0.0, 0.0, 0.0, 0.0, 0.0, 0.0, 0.0, 0.0, 0.0, 0.0, 0.0, 0.0, 0.0, 0.0, 0.0, 0.0, 0.0, 0.0, 0.3333333333333333, 0.0, 0.0, 0.0, 0.0, 0.0, 0.0, 0.0, 0.0, 0.0, 0.0, 0.0, 0.0, 0.0, 2.6666666666666665, 0.0, 0.0, 0.0, 0.0, 0.3333333333333333, 0.0, 0.0, 0.0, 0.0, 0.0, 0.0, 0.0, 0.0, 0.0, 0.0, 0.0, 0.0, 0.0, 0.0, 0.0, 0.0, 0.0, 0.0, 0.0, 0.0, 0.0, 0.0, 0.0]\n",
        "[0, 0, 0, 0, 0, 0, 0, 0, 33, 0, 0, 0, 0, 0, 0, 0, 0, 0, 0, 0, 0, 0, 0, 0, 0, 0, 0, 2, 0, 0, 0, 0, 0, 0, 0, 0, 0, 0, 0, 0, 0, 0, 0, 0, 0, 0, 0, 0, 0, 0, 0, 0, 0, 0, 0, 0, 0, 0, 0, 0, 0, 0, 0, 0, 0, 0, 0, 0, 0, 0, 0, 0, 0, 0, 0, 0, 0, 0, 0, 0, 0, 0, 0, 0, 0, 0, 0, 0, 0, 0, 0, 0, 0, 0, 0, 0, 0, 0, 0, 0, 0, 0, 0, 0, 0, 0, 0, 0, 0, 0, 0]\n"
       ]
      }
     ],
     "prompt_number": 72
    },
    {
     "cell_type": "code",
     "collapsed": false,
     "input": [
      "def keyDictForKNN(keyDict):\n",
      "    modKeyDict = {}\n",
      "    dictList = []\n",
      "    for key,values in keyDict.items():\n",
      "        tempVal = int(values[0][0])\n",
      "        tempKey = int(key)\n",
      "        if tempKey not in dictList:\n",
      "            dictList.append(tempKey)\n",
      "            modKeyDict[tempKey] = tempVal\n",
      "    print(\"Done\")\n",
      "    return modKeyDict\n",
      "\n",
      "\n",
      "global modKeyDict        \n",
      "modKeyDict = keyDictForKNN(keyDict)"
     ],
     "language": "python",
     "metadata": {},
     "outputs": [
      {
       "output_type": "stream",
       "stream": "stdout",
       "text": [
        "Done\n"
       ]
      }
     ],
     "prompt_number": 33
    },
    {
     "cell_type": "code",
     "collapsed": false,
     "input": [
      "def KNNCatagoryHashGen(dataList, modKeyDict):\n",
      "    wTowerCatagoryHash = {}\n",
      "    dayCatagoryHash = {}\n",
      "    for x in dataList:\n",
      "        stationKey = modKeyDict[x[1]]\n",
      "        dayNum = x[0]\n",
      "        dayCatagoryHash = insertdayCatagoryHash(dayCatagoryHash, dayNum, x)\n",
      "        wTowerCatagoryHash = insertwTowerCatagoryHash(wTowerCatagoryHash, stationKey, x)\n",
      "    print(\"Done\")\n",
      "    return dayCatagoryHash, wTowerCatagoryHash\n",
      "        \n",
      "def insertdayCatagoryHash(dayCatagoryHash, dayNum ,x):\n",
      "    if dayCatagoryHash.get(dayNum) is None:\n",
      "        dayCatagoryHash[dayNum] = []\n",
      "        dayCatagoryHash[dayNum].append(x)\n",
      "    else:\n",
      "        dayCatagoryHash[dayNum].append(x)\n",
      "    return dayCatagoryHash\n",
      "    \n",
      "def insertwTowerCatagoryHash(wTowerCatagoryHash, stationKey, x):\n",
      "    if wTowerCatagoryHash.get(stationKey) is None:\n",
      "        wTowerCatagoryHash[stationKey] = []\n",
      "        wTowerCatagoryHash[stationKey].append(x)\n",
      "    else:\n",
      "        wTowerCatagoryHash[stationKey].append(x)\n",
      "    return wTowerCatagoryHash\n",
      "        \n",
      "        \n",
      "global dayCatagoryHash, wTowerCatagoryHash\n",
      "[dayCatagoryHash, wTowerCatagoryHash] = KNNCatagoryHashGen(dataList, modKeyDict)\n",
      "global featureSet\n",
      "featureSet = [dayCatagoryHash, wTowerCatagoryHash]"
     ],
     "language": "python",
     "metadata": {},
     "outputs": [
      {
       "output_type": "stream",
       "stream": "stdout",
       "text": [
        "Done\n"
       ]
      }
     ],
     "prompt_number": 8
    },
    {
     "cell_type": "code",
     "collapsed": false,
     "input": [
      "%matplotlib inline\n",
      "\n",
      "import matplotlib\n",
      "\n",
      "import numpy as np\n",
      "\n",
      "import matplotlib.pyplot as plt\n",
      "\n",
      "print(\"Done\")"
     ],
     "language": "python",
     "metadata": {},
     "outputs": [
      {
       "output_type": "stream",
       "stream": "stdout",
       "text": [
        "Done\n"
       ]
      }
     ],
     "prompt_number": 11
    },
    {
     "cell_type": "code",
     "collapsed": false,
     "input": [
      "import numpy as np\n",
      "import matplotlib.mlab as mlab\n",
      "import matplotlib.pyplot as plt\n",
      "\n",
      "\n",
      "dayArr = [0]*364\n",
      "towArr = [0]*20\n",
      "\n",
      "for key,val in dayCatagoryHash.items():\n",
      "    dayArr[key-1] = len(val)\n",
      "    \n",
      "for key,val in wTowerCatagoryHash.items():\n",
      "    towArr[key-1] = len(val)\n",
      "\n",
      "# # example data\n",
      "mu = 100 # mean of distribution\n",
      "sigma = 15 # standard deviation of distribution\n",
      "# x = mu + sigma * np.random.randn(10000)\n",
      "\n",
      "num_bins = 365\n",
      "# the histogram of the data\n",
      "n, bins, patches = plt.hist(dayArr, num_bins, normed=1, facecolor='green', alpha=0.5)\n",
      "# add a 'best fit' line\n",
      "y = num_bins\n",
      "plt.plot(bins, n, 'r--')\n",
      "\n",
      "# Tweak spacing to prevent clipping of ylabel\n",
      "plt.subplots_adjust(left=0.15)\n",
      "plt.show()"
     ],
     "language": "python",
     "metadata": {},
     "outputs": [
      {
       "ename": "ValueError",
       "evalue": "x and y must have same first dimension",
       "output_type": "pyerr",
       "traceback": [
        "\u001b[0;31m---------------------------------------------------------------------------\u001b[0m",
        "\u001b[0;31mValueError\u001b[0m                                Traceback (most recent call last)",
        "\u001b[0;32m<ipython-input-47-bd357d770f89>\u001b[0m in \u001b[0;36m<module>\u001b[0;34m()\u001b[0m\n\u001b[1;32m     23\u001b[0m \u001b[0;31m# add a 'best fit' line\u001b[0m\u001b[0;34m\u001b[0m\u001b[0;34m\u001b[0m\u001b[0m\n\u001b[1;32m     24\u001b[0m \u001b[0my\u001b[0m \u001b[0;34m=\u001b[0m \u001b[0mnum_bins\u001b[0m\u001b[0;34m\u001b[0m\u001b[0m\n\u001b[0;32m---> 25\u001b[0;31m \u001b[0mplt\u001b[0m\u001b[0;34m.\u001b[0m\u001b[0mplot\u001b[0m\u001b[0;34m(\u001b[0m\u001b[0mbins\u001b[0m\u001b[0;34m,\u001b[0m \u001b[0mn\u001b[0m\u001b[0;34m,\u001b[0m \u001b[0;34m'r--'\u001b[0m\u001b[0;34m)\u001b[0m\u001b[0;34m\u001b[0m\u001b[0m\n\u001b[0m\u001b[1;32m     26\u001b[0m \u001b[0;34m\u001b[0m\u001b[0m\n\u001b[1;32m     27\u001b[0m \u001b[0;31m# Tweak spacing to prevent clipping of ylabel\u001b[0m\u001b[0;34m\u001b[0m\u001b[0;34m\u001b[0m\u001b[0m\n",
        "\u001b[0;32m/Users/justinhilliard/anaconda/envs/python27/lib/python2.7/site-packages/matplotlib/pyplot.pyc\u001b[0m in \u001b[0;36mplot\u001b[0;34m(*args, **kwargs)\u001b[0m\n\u001b[1;32m   3097\u001b[0m         \u001b[0max\u001b[0m\u001b[0;34m.\u001b[0m\u001b[0mhold\u001b[0m\u001b[0;34m(\u001b[0m\u001b[0mhold\u001b[0m\u001b[0;34m)\u001b[0m\u001b[0;34m\u001b[0m\u001b[0m\n\u001b[1;32m   3098\u001b[0m     \u001b[0;32mtry\u001b[0m\u001b[0;34m:\u001b[0m\u001b[0;34m\u001b[0m\u001b[0m\n\u001b[0;32m-> 3099\u001b[0;31m         \u001b[0mret\u001b[0m \u001b[0;34m=\u001b[0m \u001b[0max\u001b[0m\u001b[0;34m.\u001b[0m\u001b[0mplot\u001b[0m\u001b[0;34m(\u001b[0m\u001b[0;34m*\u001b[0m\u001b[0margs\u001b[0m\u001b[0;34m,\u001b[0m \u001b[0;34m**\u001b[0m\u001b[0mkwargs\u001b[0m\u001b[0;34m)\u001b[0m\u001b[0;34m\u001b[0m\u001b[0m\n\u001b[0m\u001b[1;32m   3100\u001b[0m         \u001b[0mdraw_if_interactive\u001b[0m\u001b[0;34m(\u001b[0m\u001b[0;34m)\u001b[0m\u001b[0;34m\u001b[0m\u001b[0m\n\u001b[1;32m   3101\u001b[0m     \u001b[0;32mfinally\u001b[0m\u001b[0;34m:\u001b[0m\u001b[0;34m\u001b[0m\u001b[0m\n",
        "\u001b[0;32m/Users/justinhilliard/anaconda/envs/python27/lib/python2.7/site-packages/matplotlib/axes/_axes.pyc\u001b[0m in \u001b[0;36mplot\u001b[0;34m(self, *args, **kwargs)\u001b[0m\n\u001b[1;32m   1371\u001b[0m         \u001b[0mlines\u001b[0m \u001b[0;34m=\u001b[0m \u001b[0;34m[\u001b[0m\u001b[0;34m]\u001b[0m\u001b[0;34m\u001b[0m\u001b[0m\n\u001b[1;32m   1372\u001b[0m \u001b[0;34m\u001b[0m\u001b[0m\n\u001b[0;32m-> 1373\u001b[0;31m         \u001b[0;32mfor\u001b[0m \u001b[0mline\u001b[0m \u001b[0;32min\u001b[0m \u001b[0mself\u001b[0m\u001b[0;34m.\u001b[0m\u001b[0m_get_lines\u001b[0m\u001b[0;34m(\u001b[0m\u001b[0;34m*\u001b[0m\u001b[0margs\u001b[0m\u001b[0;34m,\u001b[0m \u001b[0;34m**\u001b[0m\u001b[0mkwargs\u001b[0m\u001b[0;34m)\u001b[0m\u001b[0;34m:\u001b[0m\u001b[0;34m\u001b[0m\u001b[0m\n\u001b[0m\u001b[1;32m   1374\u001b[0m             \u001b[0mself\u001b[0m\u001b[0;34m.\u001b[0m\u001b[0madd_line\u001b[0m\u001b[0;34m(\u001b[0m\u001b[0mline\u001b[0m\u001b[0;34m)\u001b[0m\u001b[0;34m\u001b[0m\u001b[0m\n\u001b[1;32m   1375\u001b[0m             \u001b[0mlines\u001b[0m\u001b[0;34m.\u001b[0m\u001b[0mappend\u001b[0m\u001b[0;34m(\u001b[0m\u001b[0mline\u001b[0m\u001b[0;34m)\u001b[0m\u001b[0;34m\u001b[0m\u001b[0m\n",
        "\u001b[0;32m/Users/justinhilliard/anaconda/envs/python27/lib/python2.7/site-packages/matplotlib/axes/_base.pyc\u001b[0m in \u001b[0;36m_grab_next_args\u001b[0;34m(self, *args, **kwargs)\u001b[0m\n\u001b[1;32m    302\u001b[0m                 \u001b[0;32mreturn\u001b[0m\u001b[0;34m\u001b[0m\u001b[0m\n\u001b[1;32m    303\u001b[0m             \u001b[0;32mif\u001b[0m \u001b[0mlen\u001b[0m\u001b[0;34m(\u001b[0m\u001b[0mremaining\u001b[0m\u001b[0;34m)\u001b[0m \u001b[0;34m<=\u001b[0m \u001b[0;36m3\u001b[0m\u001b[0;34m:\u001b[0m\u001b[0;34m\u001b[0m\u001b[0m\n\u001b[0;32m--> 304\u001b[0;31m                 \u001b[0;32mfor\u001b[0m \u001b[0mseg\u001b[0m \u001b[0;32min\u001b[0m \u001b[0mself\u001b[0m\u001b[0;34m.\u001b[0m\u001b[0m_plot_args\u001b[0m\u001b[0;34m(\u001b[0m\u001b[0mremaining\u001b[0m\u001b[0;34m,\u001b[0m \u001b[0mkwargs\u001b[0m\u001b[0;34m)\u001b[0m\u001b[0;34m:\u001b[0m\u001b[0;34m\u001b[0m\u001b[0m\n\u001b[0m\u001b[1;32m    305\u001b[0m                     \u001b[0;32myield\u001b[0m \u001b[0mseg\u001b[0m\u001b[0;34m\u001b[0m\u001b[0m\n\u001b[1;32m    306\u001b[0m                 \u001b[0;32mreturn\u001b[0m\u001b[0;34m\u001b[0m\u001b[0m\n",
        "\u001b[0;32m/Users/justinhilliard/anaconda/envs/python27/lib/python2.7/site-packages/matplotlib/axes/_base.pyc\u001b[0m in \u001b[0;36m_plot_args\u001b[0;34m(self, tup, kwargs)\u001b[0m\n\u001b[1;32m    280\u001b[0m             \u001b[0mx\u001b[0m \u001b[0;34m=\u001b[0m \u001b[0mnp\u001b[0m\u001b[0;34m.\u001b[0m\u001b[0marange\u001b[0m\u001b[0;34m(\u001b[0m\u001b[0my\u001b[0m\u001b[0;34m.\u001b[0m\u001b[0mshape\u001b[0m\u001b[0;34m[\u001b[0m\u001b[0;36m0\u001b[0m\u001b[0;34m]\u001b[0m\u001b[0;34m,\u001b[0m \u001b[0mdtype\u001b[0m\u001b[0;34m=\u001b[0m\u001b[0mfloat\u001b[0m\u001b[0;34m)\u001b[0m\u001b[0;34m\u001b[0m\u001b[0m\n\u001b[1;32m    281\u001b[0m \u001b[0;34m\u001b[0m\u001b[0m\n\u001b[0;32m--> 282\u001b[0;31m         \u001b[0mx\u001b[0m\u001b[0;34m,\u001b[0m \u001b[0my\u001b[0m \u001b[0;34m=\u001b[0m \u001b[0mself\u001b[0m\u001b[0;34m.\u001b[0m\u001b[0m_xy_from_xy\u001b[0m\u001b[0;34m(\u001b[0m\u001b[0mx\u001b[0m\u001b[0;34m,\u001b[0m \u001b[0my\u001b[0m\u001b[0;34m)\u001b[0m\u001b[0;34m\u001b[0m\u001b[0m\n\u001b[0m\u001b[1;32m    283\u001b[0m \u001b[0;34m\u001b[0m\u001b[0m\n\u001b[1;32m    284\u001b[0m         \u001b[0;32mif\u001b[0m \u001b[0mself\u001b[0m\u001b[0;34m.\u001b[0m\u001b[0mcommand\u001b[0m \u001b[0;34m==\u001b[0m \u001b[0;34m'plot'\u001b[0m\u001b[0;34m:\u001b[0m\u001b[0;34m\u001b[0m\u001b[0m\n",
        "\u001b[0;32m/Users/justinhilliard/anaconda/envs/python27/lib/python2.7/site-packages/matplotlib/axes/_base.pyc\u001b[0m in \u001b[0;36m_xy_from_xy\u001b[0;34m(self, x, y)\u001b[0m\n\u001b[1;32m    221\u001b[0m         \u001b[0my\u001b[0m \u001b[0;34m=\u001b[0m \u001b[0mnp\u001b[0m\u001b[0;34m.\u001b[0m\u001b[0matleast_1d\u001b[0m\u001b[0;34m(\u001b[0m\u001b[0my\u001b[0m\u001b[0;34m)\u001b[0m\u001b[0;34m\u001b[0m\u001b[0m\n\u001b[1;32m    222\u001b[0m         \u001b[0;32mif\u001b[0m \u001b[0mx\u001b[0m\u001b[0;34m.\u001b[0m\u001b[0mshape\u001b[0m\u001b[0;34m[\u001b[0m\u001b[0;36m0\u001b[0m\u001b[0;34m]\u001b[0m \u001b[0;34m!=\u001b[0m \u001b[0my\u001b[0m\u001b[0;34m.\u001b[0m\u001b[0mshape\u001b[0m\u001b[0;34m[\u001b[0m\u001b[0;36m0\u001b[0m\u001b[0;34m]\u001b[0m\u001b[0;34m:\u001b[0m\u001b[0;34m\u001b[0m\u001b[0m\n\u001b[0;32m--> 223\u001b[0;31m             \u001b[0;32mraise\u001b[0m \u001b[0mValueError\u001b[0m\u001b[0;34m(\u001b[0m\u001b[0;34m\"x and y must have same first dimension\"\u001b[0m\u001b[0;34m)\u001b[0m\u001b[0;34m\u001b[0m\u001b[0m\n\u001b[0m\u001b[1;32m    224\u001b[0m         \u001b[0;32mif\u001b[0m \u001b[0mx\u001b[0m\u001b[0;34m.\u001b[0m\u001b[0mndim\u001b[0m \u001b[0;34m>\u001b[0m \u001b[0;36m2\u001b[0m \u001b[0;32mor\u001b[0m \u001b[0my\u001b[0m\u001b[0;34m.\u001b[0m\u001b[0mndim\u001b[0m \u001b[0;34m>\u001b[0m \u001b[0;36m2\u001b[0m\u001b[0;34m:\u001b[0m\u001b[0;34m\u001b[0m\u001b[0m\n\u001b[1;32m    225\u001b[0m             \u001b[0;32mraise\u001b[0m \u001b[0mValueError\u001b[0m\u001b[0;34m(\u001b[0m\u001b[0;34m\"x and y can be no greater than 2-D\"\u001b[0m\u001b[0;34m)\u001b[0m\u001b[0;34m\u001b[0m\u001b[0m\n",
        "\u001b[0;31mValueError\u001b[0m: x and y must have same first dimension"
       ]
      },
      {
       "metadata": {},
       "output_type": "display_data",
       "png": "[encoded data removed]",
       "text": [
        "<matplotlib.figure.Figure at 0x10c630810>"
       ]
      }
     ],
     "prompt_number": 47
    },
    {
     "cell_type": "code",
     "collapsed": false,
     "input": [
      "\n",
      "N = 50\n",
      "x = np.random.rand(N)\n",
      "y = np.random.rand(N)\n",
      "colors = np.random.rand(N)\n",
      "area = np.pi * (15 * np.random.rand(N))**2 # 0 to 15 point radiuses\n",
      "\n",
      "# print(x)\n",
      "# print(y)\n",
      "# print(colors)\n",
      "# print(area)\n",
      "\n",
      "dayArr = [0]*364\n",
      "towArr = [0]*20\n",
      "\n",
      "for key,val in dayCatagoryHash.items():\n",
      "    dayArr[key-1] = len(val)\n",
      "    \n",
      "count=0\n",
      "countI=0\n",
      "dayArrAdjust=[0]*20\n",
      "for x in dayArr:\n",
      "    dayArrAdjust[countI] = dayArrAdjust[countI] + x\n",
      "    if count%19 == 18:\n",
      "        countI+=1\n",
      "    count+=1\n",
      "    \n",
      "    \n",
      "print(dayArrAdjust)\n",
      "\n",
      "for key,val in wTowerCatagoryHash.items():\n",
      "    towArr[key-1] = len(val)\n",
      "    \n",
      "print(towArr)\n",
      "print(colors[:20])\n",
      "\n",
      "Darea = [0]*20\n",
      "Tarea = [0]*20\n",
      "Farea = [0]*20\n",
      "for x in range(towArr):\n",
      "    Tarea[x]=towArr[x]/max(towArr)\n",
      "    \n",
      "for x in range(dayArrAdjust):\n",
      "    Darea[x]=dayArrAdjust[x]/max(dayArrAdjust)\n",
      "    \n",
      "for x in range(Tarea):\n",
      "    Farea[x] = (Tarea[x]+Darea[x])/2\n",
      "print(Farea)\n",
      "\n",
      "plt.scatter(dayArrAdjust, towArr, s=area, c=colors, alpha=0.5)\n",
      "plt.show()"
     ],
     "language": "python",
     "metadata": {
      "scrolled": false
     },
     "outputs": [],
     "prompt_number": null
    },
    {
     "cell_type": "code",
     "collapsed": true,
     "input": [],
     "language": "python",
     "metadata": {},
     "outputs": [],
     "prompt_number": null
    },
    {
     "cell_type": "code",
     "collapsed": false,
     "input": [
      "def sim(featureSet, comp, temp):\n",
      "    ksd = simDay( featureSet[0], comp[0], temp[0] ) \n",
      "    kwt = simWTower( featureSet[1], comp[1], temp[1] ) \n",
      "    \n",
      "    \n",
      "def simDay( dayCatagoryHash, compDay, tempDay):\n",
      "    for key,val in dayCatagoryHash.items():\n",
      "        sVal = key - \n",
      "        "
     ],
     "language": "python",
     "metadata": {},
     "outputs": [],
     "prompt_number": null
    },
    {
     "cell_type": "code",
     "collapsed": true,
     "input": [],
     "language": "python",
     "metadata": {},
     "outputs": [],
     "prompt_number": null
    }
   ],
   "metadata": {}
  }
 ]
}