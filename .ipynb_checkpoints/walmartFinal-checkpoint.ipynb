{
 "cells": [
  {
   "cell_type": "code",
   "execution_count": 3,
   "metadata": {
    "collapsed": false
   },
   "outputs": [],
   "source": [
    "from pprint import pprint as pp\n",
    "import re"
   ]
  },
  {
   "cell_type": "code",
   "execution_count": 23,
   "metadata": {
    "collapsed": false
   },
   "outputs": [
    {
     "name": "stdout",
     "output_type": "stream",
     "text": [
      "Done key.csv\n",
      "Done train.csv\n",
      "Done weather.csv\n"
     ]
    }
   ],
   "source": [
    "def loadData(fname, dataStructure):\n",
    "    count = 0\n",
    "    with open(fname) as f:\n",
    "        content = f.readlines()\n",
    "    for line in content:\n",
    "        if count is not 0:\n",
    "            line = line.strip()\n",
    "            line = line.split(',')\n",
    "            if dataStructure.get(line[0]) is None:\n",
    "                dataStructure[line[0]] = []\n",
    "                dataStructure[line[0]].append(line[1:])\n",
    "            else:\n",
    "                dataStructure[line[0]].append(line[1:])\n",
    "        count+=1\n",
    "    print(\"Done \" + fname)\n",
    "        \n",
    "def loadFiles():\n",
    "    global keyDict, trainDict, weatherDict\n",
    "    keyDict = {}\n",
    "    weatherDict = {}\n",
    "    trainDict = {}\n",
    "    dataStruct = [keyDict, trainDict, weatherDict]\n",
    "    count=0\n",
    "    for x in ['key.csv', 'train.csv', 'weather.csv']:\n",
    "        loadData(x, dataStruct[count])\n",
    "        count+=1\n",
    "\n",
    "loadFiles()"
   ]
  },
  {
   "cell_type": "markdown",
   "metadata": {
    "collapsed": true
   },
   "source": [
    "##Define Weather Event\n",
    "weather event as any day in which more than an inch of rain or two inches of snow was observed"
   ]
  },
  {
   "cell_type": "code",
   "execution_count": 24,
   "metadata": {
    "collapsed": false
   },
   "outputs": [
    {
     "name": "stdout",
     "output_type": "stream",
     "text": [
      "Done\n"
     ]
    }
   ],
   "source": [
    "def buildNotedDaysHash(keyDict, weatherDict):\n",
    "    toreturn = {}\n",
    "    for storeKey in range(1,46):\n",
    "        stationKey = keyDict[str(storeKey)][0][0]\n",
    "        weatherData = weatherDict[str(stationKey)]\n",
    "        first = True\n",
    "        for dayData in weatherData:\n",
    "            isNoted = 0\n",
    "            try:\n",
    "                if float(dayData[12]) > 2:\n",
    "                    isNoted = dayData[0]\n",
    "            except ValueError:\n",
    "                pass\n",
    "            try:\n",
    "                if float(dayData[13]) > 1:\n",
    "                    isNoted = dayData[0]\n",
    "            except ValueError:\n",
    "                pass\n",
    "            if first:\n",
    "                toreturn[storeKey] = []\n",
    "                toreturn[storeKey].append(isNoted)\n",
    "                first = False\n",
    "            else:\n",
    "                toreturn[storeKey].append(isNoted)\n",
    "    print(\"Done\")\n",
    "    return toreturn\n",
    "            \n",
    "global notedDays \n",
    "notedDays = buildNotedDaysHash(keyDict, weatherDict)"
   ]
  },
  {
   "cell_type": "code",
   "execution_count": 26,
   "metadata": {
    "collapsed": false
   },
   "outputs": [
    {
     "ename": "KeyError",
     "evalue": "'2012-12-25'",
     "output_type": "error",
     "traceback": [
      "\u001b[0;31m---------------------------------------------------------------------------\u001b[0m",
      "\u001b[0;31mKeyError\u001b[0m                                  Traceback (most recent call last)",
      "\u001b[0;32m<ipython-input-26-239eb9c76680>\u001b[0m in \u001b[0;36m<module>\u001b[0;34m()\u001b[0m\n\u001b[1;32m     27\u001b[0m     \u001b[0;32mreturn\u001b[0m \u001b[0mtoreturn\u001b[0m\u001b[0;34m\u001b[0m\u001b[0m\n\u001b[1;32m     28\u001b[0m \u001b[0;34m\u001b[0m\u001b[0m\n\u001b[0;32m---> 29\u001b[0;31m \u001b[0mtrainedPreStoreDict\u001b[0m \u001b[0;34m=\u001b[0m \u001b[0mbuildPredictorTargetArr\u001b[0m\u001b[0;34m(\u001b[0m\u001b[0mkeyDict\u001b[0m\u001b[0;34m,\u001b[0m \u001b[0mtrainDict\u001b[0m\u001b[0;34m,\u001b[0m \u001b[0mnotedDays\u001b[0m\u001b[0;34m,\u001b[0m \u001b[0mweatherDict\u001b[0m\u001b[0;34m)\u001b[0m\u001b[0;34m\u001b[0m\u001b[0m\n\u001b[0m",
      "\u001b[0;32m<ipython-input-26-239eb9c76680>\u001b[0m in \u001b[0;36mbuildPredictorTargetArr\u001b[0;34m(keyDict, trainDict, notedDays, weatherDict)\u001b[0m\n\u001b[1;32m     16\u001b[0m                     \u001b[0mtoreturn\u001b[0m\u001b[0;34m[\u001b[0m\u001b[0mstoreKey\u001b[0m\u001b[0;34m]\u001b[0m\u001b[0;34m.\u001b[0m\u001b[0mappend\u001b[0m\u001b[0;34m(\u001b[0m\u001b[0mtempArr\u001b[0m\u001b[0;34m)\u001b[0m\u001b[0;34m\u001b[0m\u001b[0m\n\u001b[1;32m     17\u001b[0m                 \u001b[0;32melse\u001b[0m\u001b[0;34m:\u001b[0m\u001b[0;34m\u001b[0m\u001b[0m\n\u001b[0;32m---> 18\u001b[0;31m                     \u001b[0mtempIter\u001b[0m \u001b[0;34m=\u001b[0m \u001b[0mtrainDict\u001b[0m\u001b[0;34m[\u001b[0m\u001b[0mx\u001b[0m\u001b[0;34m]\u001b[0m\u001b[0;34m\u001b[0m\u001b[0m\n\u001b[0m\u001b[1;32m     19\u001b[0m                     \u001b[0mtempArr\u001b[0m \u001b[0;34m=\u001b[0m \u001b[0;34m[\u001b[0m\u001b[0mx\u001b[0m\u001b[0;34m,\u001b[0m \u001b[0mstoreKey\u001b[0m\u001b[0;34m]\u001b[0m\u001b[0;34m\u001b[0m\u001b[0m\n\u001b[1;32m     20\u001b[0m                     \u001b[0mtempArr\u001b[0m\u001b[0;34m.\u001b[0m\u001b[0mappend\u001b[0m\u001b[0;34m(\u001b[0m\u001b[0;34m[\u001b[0m\u001b[0;36m0\u001b[0m\u001b[0;34m]\u001b[0m\u001b[0;34m*\u001b[0m\u001b[0;36m111\u001b[0m\u001b[0;34m)\u001b[0m\u001b[0;34m\u001b[0m\u001b[0m\n",
      "\u001b[0;31mKeyError\u001b[0m: '2012-12-25'"
     ]
    }
   ],
   "source": [
    "def buildPredictorTargetArr(keyDict, trainDict, notedDays, weatherDict):\n",
    "    toreturn = {}\n",
    "    for storeKey in range(1,46):\n",
    "        dayArr = notedDays[storeKey]\n",
    "        for x in dayArr:\n",
    "            if x != 0:\n",
    "                if toreturn.get(storeKey) is None:\n",
    "                    tempArr = [x, storeKey]\n",
    "                    tempArr.append([0]*111)\n",
    "                    tempIter = trainDict[x]\n",
    "                    for i in tempIter:\n",
    "                        if int(i[0]) == storeKey:\n",
    "                            tempIndex = int(i[1]) - 1\n",
    "                            tempArr[2][tempIndex] = int(i[2])\n",
    "                    toreturn[storeKey] = []\n",
    "                    toreturn[storeKey].append(tempArr)\n",
    "                else:\n",
    "                    tempIter = trainDict[x]\n",
    "                    tempArr = [x, storeKey]\n",
    "                    tempArr.append([0]*111)\n",
    "                    for i in tempIter:\n",
    "                        if int(i[0]) == storeKey:\n",
    "                            tempIndex = int(i[1]) - 1\n",
    "                            tempArr[2][tempIndex] = int(i[2])\n",
    "                    toreturn[storeKey].append(tempArr)\n",
    "    print(\"Done\")\n",
    "    return toreturn\n",
    "\n",
    "trainedPreStoreDict = buildPredictorTargetArr(keyDict, trainDict, notedDays, weatherDict)"
   ]
  },
  {
   "cell_type": "markdown",
   "metadata": {
    "collapsed": true
   },
   "source": [
    "##Notes\n",
    "\n",
    "No Train data available for days that the store is closed (ie Chirstmas) "
   ]
  },
  {
   "cell_type": "code",
   "execution_count": null,
   "metadata": {
    "collapsed": true
   },
   "outputs": [],
   "source": []
  }
 ],
 "metadata": {
  "kernelspec": {
   "display_name": "Python 3",
   "language": "python",
   "name": "python3"
  },
  "language_info": {
   "codemirror_mode": {
    "name": "ipython",
    "version": 3
   },
   "file_extension": ".py",
   "mimetype": "text/x-python",
   "name": "python",
   "nbconvert_exporter": "python",
   "pygments_lexer": "ipython3",
   "version": "3.4.2"
  }
 },
 "nbformat": 4,
 "nbformat_minor": 0
}
